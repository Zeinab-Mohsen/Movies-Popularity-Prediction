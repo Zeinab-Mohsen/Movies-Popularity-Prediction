{
 "cells": [
  {
   "attachments": {},
   "cell_type": "markdown",
   "metadata": {},
   "source": [
    "## Imports"
   ]
  },
  {
   "cell_type": "code",
   "execution_count": 1,
   "metadata": {},
   "outputs": [],
   "source": [
    "import ast\n",
    "import time\n",
    "import pickle\n",
    "import numpy as np\n",
    "import pandas as pd\n",
    "from collections import Counter\n",
    "import matplotlib.pyplot as plt\n",
    "from sklearn.feature_selection import RFE\n",
    "from sklearn.metrics import accuracy_score\n",
    "from sklearn.preprocessing import MinMaxScaler\n",
    "from sklearn.preprocessing import LabelEncoder\n",
    "from sklearn.tree import DecisionTreeClassifier\n",
    "from sklearn.ensemble import RandomForestClassifier\n",
    "from sklearn.linear_model import LogisticRegression\n",
    "from sklearn.feature_extraction import FeatureHasher\n",
    "from sklearn.model_selection import train_test_split\n",
    "from sklearn.preprocessing import MultiLabelBinarizer\n",
    "from sklearn.feature_extraction.text import TfidfVectorizer"
   ]
  },
  {
   "attachments": {},
   "cell_type": "markdown",
   "metadata": {},
   "source": [
    "## Global variables"
   ]
  },
  {
   "cell_type": "code",
   "execution_count": 2,
   "metadata": {},
   "outputs": [],
   "source": [
    "scaler = MinMaxScaler()\n",
    "\n",
    "# One hot encoding\n",
    "genres_mlb = MultiLabelBinarizer()\n",
    "spoken_languages_mlb = MultiLabelBinarizer()\n",
    "production_countries_mlb = MultiLabelBinarizer()\n",
    "\n",
    "# Label encoding\n",
    "original_language_encoder = LabelEncoder()\n",
    "status_encoder = LabelEncoder()\n",
    "name_encoder = LabelEncoder()\n",
    "character_encoder = LabelEncoder()\n",
    "\n",
    "# Hashing encoding\n",
    "keywords_hash_num = 30    #Change this Number for more accuracy\n",
    "keywords_hash_columns = []\n",
    "hash_column_name = ''\n",
    "\n",
    "for i in range(keywords_hash_num):\n",
    "  hash_column_name = 'keywords_hash_' + str(i)\n",
    "  keywords_hash_columns.append(hash_column_name)\n",
    "\n",
    "keywords_hasher = FeatureHasher(n_features=keywords_hash_num, input_type='string')\n",
    "\n",
    "\n",
    "production_companies_hash_num = 20 #Change this Number for more accuracy\n",
    "production_companies_hash_columns = []\n",
    "hash_column_name = ''\n",
    "\n",
    "for i in range(production_companies_hash_num):\n",
    "  hash_column_name = 'production_companies_hash_' + str(i)\n",
    "  production_companies_hash_columns.append(hash_column_name)\n",
    "\n",
    "production_companies_hasher = FeatureHasher(n_features=production_companies_hash_num, input_type='string')\n",
    "\n",
    "\n",
    "tfidf  = TfidfVectorizer(stop_words='english')\n",
    "\n",
    "\n",
    "cast_num = 1  \n",
    "cast_columns = []\n",
    "cast_character = ''\n",
    "cast_gender = ''\n",
    "cast_name = ''\n",
    "cast_order = ''\n",
    "\n",
    "for i in range(cast_num):\n",
    "  cast_character = 'cast_' + str(i) + '_character'\n",
    "  cast_gender = 'cast_' + str(i) + '_gender'\n",
    "  cast_name = 'cast_' + str(i) + '_name'\n",
    "  cast_order = 'cast_' + str(i) + '_order'\n",
    "\n",
    "  cast_columns.append(cast_character)\n",
    "  cast_columns.append(cast_gender)\n",
    "  cast_columns.append(cast_name)\n",
    "  cast_columns.append(cast_order)\n",
    "\n",
    "rate_encoder = LabelEncoder()\n",
    "\n",
    "\n",
    "missingValues = {\n",
    "    'budget'  :  None,\n",
    "    'genres'  :  None,\n",
    "    'homepage'  :  None,\n",
    "    'id'  :  None,\n",
    "    'keywords'  :  None,\n",
    "    'original_language'  :  None,\n",
    "    'original_title'  :  None,\n",
    "    'overview'  :  None,\n",
    "    'viewercount'  :  None,\n",
    "    'production_companies'  :  None,\n",
    "    'production_countries'  :  None,\n",
    "    'release_date'  :  None,\n",
    "    'revenue'  :  None,\n",
    "    'runtime'  :  None,\n",
    "    'spoken_languages'  :  None,\n",
    "    'status'  :  None,\n",
    "    'tagline'  :  None,\n",
    "    'title'  :  None,\n",
    "    'vote_count'  :  None,\n",
    "    'cast'  :  None,\n",
    "    'crew'  :  None,\n",
    "}\n"
   ]
  },
  {
   "attachments": {},
   "cell_type": "markdown",
   "metadata": {},
   "source": [
    "## Helper functions"
   ]
  },
  {
   "cell_type": "markdown",
   "metadata": {},
   "source": [
    "### Save the models"
   ]
  },
  {
   "cell_type": "code",
   "execution_count": 3,
   "metadata": {},
   "outputs": [],
   "source": [
    "\n",
    "# Save the encoding objects\n",
    "def save_encoders(encoding):\n",
    "    with open('encoders.pkl', 'wb') as file:\n",
    "        pickle.dump(encoding, file)\n",
    "\n",
    "# Save the feature hashers\n",
    "def save_hashers(hash):\n",
    "    with open('hashers.pkl', 'wb') as file:\n",
    "        pickle.dump(hash, file)\n",
    "\n",
    "# Save the TF-IDF vectorizer\n",
    "def save_tfidf_vectorizer(tf_idf):\n",
    "    with open('tfidf_vectorizer.pkl', 'wb') as file:\n",
    "        pickle.dump(tf_idf, file)\n",
    "\n",
    "# Save the scalers\n",
    "def save_scalers(scale):\n",
    "    with open('scalers.pkl', 'wb') as file:\n",
    "        pickle.dump(scale, file)\n",
    "\n",
    "# Save the feature selection\n",
    "def save_feature_selection(feature):\n",
    "    with open('feature_selection.pkl', 'wb') as file:\n",
    "        pickle.dump(feature, file)\n",
    "\n",
    "# Save the model\n",
    "def save_model(model, filename):\n",
    "    with open(filename, 'wb') as file:\n",
    "        pickle.dump(model, file)\n",
    "\n",
    "\n",
    "  \n",
    "# Save the missing values\n",
    "def save_missing_values(missingValues):\n",
    "    with open('missing_values.pkl', 'wb') as file:\n",
    "        pickle.dump(missingValues, file)\n",
    "     \n",
    "\n"
   ]
  },
  {
   "cell_type": "markdown",
   "metadata": {},
   "source": [
    "### Load the models"
   ]
  },
  {
   "cell_type": "code",
   "execution_count": 4,
   "metadata": {},
   "outputs": [],
   "source": [
    "\n",
    "# Load the encoding objects\n",
    "def load_encoders():\n",
    "    with open('encoders.pkl', 'rb') as file:\n",
    "        encodings = pickle.load(file)\n",
    "\n",
    "        \n",
    "    genres_mlb = encodings['genres_mlb']\n",
    "    spoken_languages_mlb = encodings['spoken_languages_mlb']\n",
    "    production_countries_mlb = encodings['production_countries_mlb']\n",
    "    original_language_encoder = encodings['original_language_encoder']\n",
    "    status_encoder = encodings['status_encoder']\n",
    "    name_encoder = encodings['name_encoder']\n",
    "    character_encoder = encodings['character_encoder']\n",
    "    rate_encoder = encodings['rate_encoder']\n",
    "    \n",
    "    return genres_mlb, spoken_languages_mlb, production_countries_mlb, original_language_encoder, status_encoder, name_encoder, character_encoder, rate_encoder\n",
    "\n",
    "# Load the feature hashers\n",
    "def load_hashers():\n",
    "    with open('hashers.pkl', 'rb') as file:\n",
    "        hashing = pickle.load(file)\n",
    "\n",
    "    keywords_hasher = hashing['keywords_hasher']\n",
    "    production_companies_hasher = hashing['production_companies_hasher']\n",
    "\n",
    "    return keywords_hasher, production_companies_hasher\n",
    "    \n",
    "\n",
    "# Load the TF-IDF vectorizer\n",
    "def load_tfidf_vectorizer():\n",
    "    with open('tfidf_vectorizer.pkl', 'rb') as file:\n",
    "        return pickle.load(file)\n",
    "\n",
    "\n",
    "# Load the scalers\n",
    "def load_scalers():\n",
    "    with open('scalers.pkl', 'rb') as file:\n",
    "        return pickle.load(file)\n",
    "\n",
    "# Load the feature selection\n",
    "def load_feature_selection():\n",
    "    with open('feature_selection.pkl', 'rb') as file:\n",
    "        return pickle.load(file)\n",
    "\n",
    "# Load the models\n",
    "def load_model(filename):\n",
    "    with open(filename, 'rb') as file:\n",
    "        return pickle.load(file)\n",
    "    \n",
    "# Load the missing values\n",
    "def load_missing_values():\n",
    "    with open('missing_values.pkl', 'rb') as file:\n",
    "        return pickle.load(file)\n",
    "\n"
   ]
  },
  {
   "attachments": {},
   "cell_type": "markdown",
   "metadata": {},
   "source": [
    "### Adding a new label in label encoding"
   ]
  },
  {
   "cell_type": "code",
   "execution_count": 5,
   "metadata": {},
   "outputs": [],
   "source": [
    "def unseen(data, encoder, columnName):\n",
    "    unseen_values = list(set(data[columnName]) - set(encoder.classes_))\n",
    "    if unseen_values:\n",
    "        for unseen in unseen_values:\n",
    "            if unseen not in encoder.classes_:\n",
    "                new_label = max(encoder.transform(encoder.classes_)) + 1\n",
    "                encoder.classes_ = np.append(encoder.classes_, unseen)\n",
    "                encoder.transform([unseen])[0] = new_label\n",
    "\n"
   ]
  },
  {
   "attachments": {},
   "cell_type": "markdown",
   "metadata": {},
   "source": [
    "### Converting list of dictionaries to normal list of elements\n"
   ]
  },
  {
   "cell_type": "code",
   "execution_count": 6,
   "metadata": {},
   "outputs": [],
   "source": [
    "def transformColumn(enteredData, columnName, dictionaryKey):\n",
    "    enteredData[columnName] = [ast.literal_eval(row) for row in enteredData[columnName]]\n",
    "    for index, row in enteredData[columnName].items():\n",
    "        finalList = []\n",
    "        for j in range(len(row)):\n",
    "            finalList.append(row[j][dictionaryKey])\n",
    "        enteredData.at[index, columnName] = finalList\n"
   ]
  },
  {
   "cell_type": "code",
   "execution_count": 7,
   "metadata": {},
   "outputs": [],
   "source": [
    "def transformMoviesColumns(enteredData, columnName, dictionaryKey1, dictionaryKey2, dictionaryKey3, dictionaryKey4):\n",
    "  enteredData[columnName] = [ast.literal_eval(row) for row in enteredData[columnName]]\n",
    "  for index, row in enteredData[columnName].items():\n",
    "    finalList = []\n",
    "    for j in range(len(row)):\n",
    "      fList = []\n",
    "      fList.append(row[j][dictionaryKey1])\n",
    "      fList.append(row[j][dictionaryKey2])\n",
    "      fList.append(row[j][dictionaryKey3])\n",
    "      fList.append(row[j][dictionaryKey4])\n",
    "      finalList.append(fList)\n",
    "    enteredData.at[index, columnName] = finalList\n"
   ]
  },
  {
   "attachments": {},
   "cell_type": "markdown",
   "metadata": {},
   "source": [
    "### Filling missing values"
   ]
  },
  {
   "attachments": {},
   "cell_type": "markdown",
   "metadata": {},
   "source": [
    "#### Filling missing values in numerical columns with mean value\n"
   ]
  },
  {
   "cell_type": "code",
   "execution_count": 8,
   "metadata": {},
   "outputs": [],
   "source": [
    "def fillNumericalData(enteredData, columnName):\n",
    "  mean_val = np.mean(enteredData[enteredData[columnName] != 0][columnName])\n",
    "  enteredData[columnName] = enteredData[columnName].replace(0, mean_val)\n",
    "  missingValues[columnName] = mean_val\n",
    "  enteredData[columnName] =  enteredData[columnName].fillna(mean_val)\n"
   ]
  },
  {
   "attachments": {},
   "cell_type": "markdown",
   "metadata": {},
   "source": [
    "#### Filling missing values in categoral columns with mod category \n"
   ]
  },
  {
   "cell_type": "code",
   "execution_count": 9,
   "metadata": {},
   "outputs": [],
   "source": [
    "def fillCategoralData(enteredData, columnName):\n",
    "    list_counter = Counter(tuple(lst) for lst in enteredData[columnName])\n",
    "    mode_list = list(max(list_counter, key=list_counter.get))\n",
    "    if not mode_list:\n",
    "        mode_list = list(sorted(list_counter, key=list_counter.get, reverse=True)[1])\n",
    "    enteredData[columnName] = enteredData[columnName].apply(lambda x: x if x else mode_list)\n",
    "    missingValues[columnName] = mode_list\n",
    "\n"
   ]
  },
  {
   "cell_type": "code",
   "execution_count": 10,
   "metadata": {},
   "outputs": [],
   "source": [
    "def fillMoviesCategoralData(enteredData, columnName):\n",
    "    tuple_counter = Counter(tuple(inner_lst) for lst in enteredData[columnName] for inner_lst in lst)\n",
    "    mode_tuple = max(tuple_counter, key=tuple_counter.get)\n",
    "    mode_list = [list(mode_tuple)]\n",
    "    if not mode_list:\n",
    "        mode_list = [list(sorted(tuple_counter, key=tuple_counter.get, reverse=True)[1])]\n",
    "    enteredData[columnName] = enteredData[columnName].apply(lambda lst: lst if lst else mode_list)\n",
    "    missingValues[columnName] = mode_list\n",
    "\n"
   ]
  },
  {
   "attachments": {},
   "cell_type": "markdown",
   "metadata": {},
   "source": [
    "### Preprocessing to the non-models "
   ]
  },
  {
   "cell_type": "code",
   "execution_count": 11,
   "metadata": {},
   "outputs": [],
   "source": [
    "\n",
    "def nonModels_preprocessing(data):\n",
    "    # converting list of dectionaries to normal lists of elements using \"transformColumn\" function\n",
    "    # genres column\n",
    "    transformColumn(data, 'genres', 'name')\n",
    "    # keywords column\n",
    "    transformColumn(data, 'keywords', 'name')\n",
    "    # production_companies column\n",
    "    transformColumn(data, 'production_companies', 'name')\n",
    "    # production_countries column\n",
    "    transformColumn(data, 'production_countries', 'name')\n",
    "    # spoken_languages column\n",
    "    transformColumn(data, 'spoken_languages', 'iso_639_1')\n",
    "    # cast column\n",
    "    transformMoviesColumns(data, 'cast', 'character', 'gender', 'name', 'order')\n",
    "    # crew column\n",
    "    transformMoviesColumns(data, 'crew', 'name', 'department', 'gender', 'job')\n",
    "\n",
    "    # Only leaving the year from the release date column\n",
    "    data['release_date'] = data['release_date'].str[-4:].astype(int)\n",
    "    \n",
    "    # fill missing values of categoral data with mod category using \"fillCategoralData\" function\n",
    "    # genres column\n",
    "    fillCategoralData(data, 'genres')\n",
    "    # keywords column\n",
    "    fillCategoralData(data, 'keywords')\n",
    "    # spoken_languages column\n",
    "    fillCategoralData(data, 'spoken_languages')\n",
    "    # production_companies column\n",
    "    fillCategoralData(data, 'production_companies')\n",
    "    # production_countries column\n",
    "    fillCategoralData(data, 'production_countries')\n",
    "    # cast column\n",
    "    fillMoviesCategoralData(data, 'cast')\n",
    "    # crew column\n",
    "    fillMoviesCategoralData(data, 'crew')\n",
    "\n",
    "    # fill missing values in numerical columns with mean value in column \n",
    "    # budget column\n",
    "    fillNumericalData(data, 'budget')\n",
    "    # id column\n",
    "    fillNumericalData(data, 'id')\n",
    "    # viewercount column\n",
    "    fillNumericalData(data, 'viewercount')\n",
    "    # release_date column\n",
    "    fillNumericalData(data, 'release_date')\n",
    "    # revenue column\n",
    "    fillNumericalData(data, 'revenue')\n",
    "    # runtime column\n",
    "    fillNumericalData(data, 'runtime')\n",
    "    # vote_count column\n",
    "    fillNumericalData(data, 'vote_count')\n",
    "   \n",
    "\n",
    "    # fill missing values in textual columns with mod value in column\n",
    "    # homepage column\n",
    "    missingValues['homepage'] = (data['homepage'].mode()[0])\n",
    "    data['homepage'] = data['homepage'].fillna(data['homepage'].mode()[0])\n",
    "    \n",
    "    # tagline column\n",
    "    missingValues['tagline'] = (data['tagline'].mode()[0])\n",
    "    data['tagline'] = data['tagline'].fillna(data['tagline'].mode()[0])\n",
    "    \n",
    "    # overview column\n",
    "    missingValues['overview'] = (data['overview'].mode()[0])\n",
    "    data['overview'] = data['overview'].fillna(data['overview'].mode()[0])\n",
    "    \n",
    "    # original_language column\n",
    "    missingValues['original_language'] = (data['original_language'].mode()[0])\n",
    "    data['original_language'] =  data['original_language'].fillna(data['original_language'].mode()[0])\n",
    "    \n",
    "    # original_title column\n",
    "    missingValues['original_title'] = (data['original_title'].mode()[0])\n",
    "    data['original_title'] =  data['original_title'].fillna(data['original_title'].mode()[0])\n",
    "    \n",
    "    # status column\n",
    "    missingValues['status'] = (data['status'].mode()[0])\n",
    "    data['status'] =  data['status'].fillna(data['status'].mode()[0])\n",
    "    \n",
    "    # status column\n",
    "    missingValues['title'] = (data['title'].mode()[0])\n",
    "    data['title'] =  data['title'].fillna(data['title'].mode()[0])\n",
    "\n",
    "\n",
    "\n",
    "    # Placing the values from the cast column to a column of it's own  \n",
    "    data = data.join(pd.DataFrame(columns=cast_columns, index = data.index))\n",
    "    for index, row in data.iterrows():\n",
    "      k = 0\n",
    "      for j in range(cast_num):\n",
    "        if(j > len(row['cast']) - 1):\n",
    "          break \n",
    "        data.at[index, cast_columns[k]] = row['cast'][j][0]\n",
    "        k += 1\n",
    "        data.at[index, cast_columns[k]] = row['cast'][j][1]\n",
    "        k += 1\n",
    "        data.at[index, cast_columns[k]] = row['cast'][j][2]\n",
    "        k += 1\n",
    "        data.at[index, cast_columns[k]] = row['cast'][j][3]\n",
    "        k += 1\n",
    "\n",
    "    data.drop('cast',axis=1,inplace=True)\n",
    "    \n",
    "    return data\n"
   ]
  },
  {
   "cell_type": "code",
   "execution_count": 12,
   "metadata": {},
   "outputs": [],
   "source": [
    "\n",
    "def fillMissingTestData(data):\n",
    "    missingValues = load_missing_values()\n",
    "    \n",
    "    categoralColumns = ['genres', 'keywords', 'spoken_languages',\n",
    "                        'production_companies', 'production_countries', 'cast', 'crew']\n",
    "    for i in categoralColumns:\n",
    "        data[i] = data[i].apply(lambda x: x if x else missingValues[i])\n",
    "   \n",
    "    numericalColumns = ['budget', 'id', 'viewercount',\n",
    "                    'release_date', 'revenue', 'runtime', 'vote_count']\n",
    "    for i in numericalColumns:\n",
    "        data[i] = data[i].replace(0, missingValues[i])\n",
    "        data[i] =  data[i].fillna(missingValues[i])\n",
    "\n",
    "    textualColumns = ['homepage', 'original_title', 'tagline',\n",
    "                      'title', 'status', 'overview', 'original_language']\n",
    "    for i in textualColumns:\n",
    "        data[i] =  data[i].fillna(missingValues[i])\n",
    "\n",
    "    return data\n",
    "    \n"
   ]
  },
  {
   "cell_type": "code",
   "execution_count": 13,
   "metadata": {},
   "outputs": [],
   "source": [
    "\n",
    "def nonModels_preprocessing_script(data):\n",
    "    # converting list of dectionaries to normal lists of elements using \"transformColumn\" function\n",
    "    # genres column\n",
    "    transformColumn(data, 'genres', 'name')\n",
    "    # keywords column\n",
    "    transformColumn(data, 'keywords', 'name')\n",
    "    # production_companies column\n",
    "    transformColumn(data, 'production_companies', 'name')\n",
    "    # production_countries column\n",
    "    transformColumn(data, 'production_countries', 'name')\n",
    "    # spoken_languages column\n",
    "    transformColumn(data, 'spoken_languages', 'iso_639_1')\n",
    "    # cast column\n",
    "    transformMoviesColumns(data, 'cast', 'character', 'gender', 'name', 'order')\n",
    "    # crew column\n",
    "    transformMoviesColumns(data, 'crew', 'name', 'department', 'gender', 'job')\n",
    "\n",
    "    # Only leaving the year from the release date column\n",
    "    data['release_date'] = data['release_date'].str[-4:].astype(int)\n",
    "\n",
    "    data = fillMissingTestData(data)\n",
    "\n",
    "    # Placing the values from the cast column to a column of it's own  \n",
    "    data = data.join(pd.DataFrame(columns=cast_columns, index = data.index))\n",
    "    for index, row in data.iterrows():\n",
    "      k = 0\n",
    "      for j in range(cast_num):\n",
    "        if(j > len(row['cast']) - 1):\n",
    "          break \n",
    "        data.at[index, cast_columns[k]] = row['cast'][j][0]\n",
    "        k += 1\n",
    "        data.at[index, cast_columns[k]] = row['cast'][j][1]\n",
    "        k += 1\n",
    "        data.at[index, cast_columns[k]] = row['cast'][j][2]\n",
    "        k += 1\n",
    "        data.at[index, cast_columns[k]] = row['cast'][j][3]\n",
    "        k += 1\n",
    "\n",
    "    data.drop('cast',axis=1,inplace=True)\n",
    "    \n",
    "    \n",
    "    return data\n"
   ]
  },
  {
   "attachments": {},
   "cell_type": "markdown",
   "metadata": {},
   "source": [
    "## Load data"
   ]
  },
  {
   "cell_type": "code",
   "execution_count": 14,
   "metadata": {},
   "outputs": [],
   "source": [
    "data = pd.read_csv('movies-classification-dataset.csv')\n",
    "X = data.iloc[:, :19] \n",
    "Y = data['Rate']\n",
    "movies = pd.read_csv('movies-credit-students-train.csv')\n"
   ]
  },
  {
   "attachments": {},
   "cell_type": "markdown",
   "metadata": {},
   "source": [
    "## Add the cast and crew columns to X dataFrame"
   ]
  },
  {
   "cell_type": "code",
   "execution_count": 15,
   "metadata": {},
   "outputs": [],
   "source": [
    "def join_columns(data, movies):\n",
    "  # Add two empty columns to the DataFrame\n",
    "  data = data.join(pd.DataFrame(movies['cast'], columns=['cast'], index = data.index))\n",
    "  data = data.join(pd.DataFrame(movies['crew'], columns=['crew'], index = data.index))\n",
    "\n",
    "  # Put the cast and crew in the right cells\n",
    "  for dataIndex, dataRow in data.iterrows():\n",
    "    if dataRow['id'] in movies['movie_id'].values:\n",
    "      index = movies.loc[movies['movie_id'] == dataRow['id']].index[0]\n",
    "      data.at[dataIndex, 'cast'] = movies.at[index, 'cast']\n",
    "      data.at[dataIndex, 'crew'] = movies.at[index, 'crew']\n",
    "    else:\n",
    "      data.at[dataIndex, 'cast'] = '[]'\n",
    "      data.at[dataIndex, 'crew'] = '[]'\n",
    "  \n",
    "  return data\n"
   ]
  },
  {
   "attachments": {},
   "cell_type": "markdown",
   "metadata": {},
   "source": [
    "## Distribution of the vote_average rating\n"
   ]
  },
  {
   "cell_type": "code",
   "execution_count": 16,
   "metadata": {},
   "outputs": [
    {
     "data": {
      "image/png": "[encoded data removed]",
      "text/plain": [
       "<Figure size 864x720 with 1 Axes>"
      ]
     },
     "metadata": {
      "needs_background": "light"
     },
     "output_type": "display_data"
    }
   ],
   "source": [
    "plt.subplots(figsize=(12,10))\n",
    "n, bins, patches = plt.hist(Y, 30, density=1, facecolor='b', alpha=0.75)\n",
    "\n",
    "plt.xlabel('Rate')\n",
    "plt.ylabel('Occurence')\n",
    "plt.title('Distribution of Rate')\n",
    "plt.grid(True)\n",
    "plt.show()"
   ]
  },
  {
   "attachments": {},
   "cell_type": "markdown",
   "metadata": {},
   "source": [
    "## Split Data"
   ]
  },
  {
   "cell_type": "code",
   "execution_count": 17,
   "metadata": {},
   "outputs": [],
   "source": [
    "X_Train, X_Test, Y_Train, Y_Test = train_test_split(X, Y, test_size = 0.2, random_state = 0)\n",
    "\n",
    "# test_data =  pd.DataFrame(X_Test, columns=X.columns) \n",
    "# test_data['Rate'] = Y_Test\n",
    "\n",
    "# test_data.to_csv('test.csv', index=False)\n"
   ]
  },
  {
   "cell_type": "code",
   "execution_count": 18,
   "metadata": {},
   "outputs": [],
   "source": [
    "# import pandas as pd\n",
    "# import numpy as np\n",
    "\n",
    "# def count_outliers(df):\n",
    "#     # Calculate z-scores for each column\n",
    "#     z_scores = np.abs((df - df.mean()) / df.std())\n",
    "\n",
    "#     # Set a threshold for outlier detection (e.g., z-score > 3)\n",
    "#     threshold = 3\n",
    "\n",
    "#     # Count the number of outliers in each column\n",
    "#     num_outliers = (z_scores > threshold).sum()\n",
    "\n",
    "#     return num_outliers\n",
    "\n",
    "# # Example usage\n",
    "# # Assuming 'df' is your dataframe\n",
    "# outliers_count = count_outliers(data)\n",
    "# print(\"Number of outliers in the dataframe:\", outliers_count)\n"
   ]
  },
  {
   "attachments": {},
   "cell_type": "markdown",
   "metadata": {},
   "source": [
    "## Preprocessing test Script"
   ]
  },
  {
   "cell_type": "code",
   "execution_count": 19,
   "metadata": {},
   "outputs": [],
   "source": [
    "\n",
    "# Apply the loaded encodings to the test data\n",
    "def apply_encodings(data, y):\n",
    "    # Load the encoding objects, hashers, vectorizer, and scalers\n",
    "    genres_mlb, spoken_languages_mlb, production_countries_mlb, original_language_encoder, status_encoder, name_encoder, character_encoder, rate_encoder =  load_encoders()\n",
    "    keywords_hasher, production_companies_hasher =  load_hashers()\n",
    "    tfidf = load_tfidf_vectorizer()\n",
    "    scaler = load_scalers()\n",
    "    \n",
    "    # Apply one-hot encoding\n",
    "    # genres column\n",
    "    data = data.join(pd.DataFrame(genres_mlb.transform(data.pop('genres')),\n",
    "                                    columns=genres_mlb.classes_,\n",
    "                                    index=data.index))\n",
    "    \n",
    "    # spoken_languages column\n",
    "    data = data.join(pd.DataFrame(spoken_languages_mlb.transform(data.pop('spoken_languages')),\n",
    "                                    columns=spoken_languages_mlb.classes_,\n",
    "                                    index=data.index))\n",
    "    # production_countries column \n",
    "    data = data.join(pd.DataFrame(production_countries_mlb.transform(data.pop('production_countries')),\n",
    "                                    columns=production_countries_mlb.classes_,\n",
    "                                    index=data.index))\n",
    "    \n",
    "\n",
    "    # Apply lable encoding\n",
    "    # original_language column\n",
    "    unseen(data, original_language_encoder, 'original_language')\n",
    "    data['original_language'] = original_language_encoder.transform(data['original_language'])\n",
    "    # status column\n",
    "    unseen(data, status_encoder, 'status')\n",
    "    data['status'] = status_encoder.transform(data['status'])\n",
    "    # cast column\n",
    "    for i in range(cast_num):\n",
    "        cast_name = 'cast_' + str(i) + '_name'\n",
    "        \n",
    "        unseen(data, name_encoder, cast_name)\n",
    "        data[cast_name] = name_encoder.transform(data[cast_name])\n",
    "\n",
    "\n",
    "        cast_character = 'cast_' + str(i) + '_character'\n",
    "\n",
    "        unseen(data, character_encoder, cast_character)\n",
    "        data[cast_character] = character_encoder.transform(data[cast_character])\n",
    "            \n",
    "    # Apply hashing encoding\n",
    "    # keywords column\n",
    "    data = data.join(pd.DataFrame((keywords_hasher.transform(data.pop('keywords')).toarray()), columns=keywords_hash_columns, index=data.index))\n",
    "    # production_companies column\n",
    "    data = data.join(pd.DataFrame((production_companies_hasher.transform(data.pop('production_companies')).toarray()), columns=production_companies_hash_columns, index=data.index))\n",
    "\n",
    "\n",
    "    # Apply TF-IDF \n",
    "    overview_vectors  = tfidf.transform(data['overview'])        \n",
    "    data['overview'] = list(overview_vectors.toarray())\n",
    "    data['overview'] = data['overview'].apply(lambda x: sum(x) / len(x))\n",
    "\n",
    "\n",
    "    # Normalizing the numerical columns\n",
    "    num_cols = data.select_dtypes(include=['int', 'float']).columns.tolist()\n",
    "    data[num_cols] = scaler.transform(data[num_cols])\n",
    "\n",
    "\n",
    "        \n",
    "    data.drop('homepage',axis=1,inplace=True)\n",
    "    data.drop('id',axis=1,inplace=True)\n",
    "    data.drop('original_title',axis=1,inplace=True)\n",
    "    data.drop('tagline',axis=1,inplace=True)\n",
    "    data.drop('title',axis=1,inplace=True)\n",
    "    data.drop('crew',axis=1,inplace=True)\n",
    "\n",
    "    y = rate_encoder.transform(y)\n",
    "\n",
    "    return data, y\n",
    "\n"
   ]
  },
  {
   "attachments": {},
   "cell_type": "markdown",
   "metadata": {},
   "source": [
    "## Preprocessing"
   ]
  },
  {
   "cell_type": "code",
   "execution_count": 20,
   "metadata": {},
   "outputs": [
    {
     "name": "stderr",
     "output_type": "stream",
     "text": [
      "c:\\Users\\zozom\\anaconda3\\envs\\ml\\lib\\site-packages\\sklearn\\preprocessing\\_label.py:861: UserWarning: unknown class(es) ['am', 'bs', 'ca', 'ce', 'co', 'km', 'mi', 'sa', 'si'] will be ignored\n",
      "  .format(sorted(unknown, key=str)))\n",
      "c:\\Users\\zozom\\anaconda3\\envs\\ml\\lib\\site-packages\\sklearn\\preprocessing\\_label.py:861: UserWarning: unknown class(es) ['Aruba', 'Libyan Arab Jamahiriya', 'Serbia'] will be ignored\n",
      "  .format(sorted(unknown, key=str)))\n"
     ]
    }
   ],
   "source": [
    "\n",
    "def Preprocessing(data, y, movie):\n",
    "    data = join_columns(data, movie)\n",
    "\n",
    "    data = nonModels_preprocessing(data)\n",
    "\n",
    "    # Applying one hot encoding on three categoral columns (genres, spoken_languages, production_countries) \n",
    "    # genres column\n",
    "    data = data.join(pd.DataFrame(genres_mlb.fit_transform(data.pop('genres')), columns=genres_mlb.classes_, index=data.index))\n",
    "    \n",
    "    # spoken_languages column\n",
    "    data = data.join(pd.DataFrame(spoken_languages_mlb.fit_transform(data.pop('spoken_languages')), columns=spoken_languages_mlb.classes_, index=data.index))\n",
    "    \n",
    "    # production_countries column\n",
    "    data = data.join(pd.DataFrame(production_countries_mlb.fit_transform(data.pop('production_countries')), columns=production_countries_mlb.classes_, index=data.index))\n",
    "\n",
    "\n",
    "\n",
    "    # Applying lable encoding on column (original_language, status, cast)\n",
    "    # original_language column\n",
    "    original_language_encoder.fit(data['original_language'])\n",
    "    data['original_language'] = original_language_encoder.transform(data['original_language'])\n",
    "    \n",
    "    # status column\n",
    "    status_encoder.fit(data['status'])\n",
    "    data['status'] = status_encoder.transform(data['status'])\n",
    "\n",
    "    # cast column\n",
    "   \n",
    "    for i in range(cast_num):\n",
    "      cast_name = 'cast_' + str(i) + '_name'\n",
    "      cast_character = 'cast_' + str(i) + '_character'\n",
    "\n",
    "      name_encoder.fit(data[cast_name])\n",
    "      character_encoder.fit(data[cast_character])\n",
    "\n",
    "      data[cast_name] = name_encoder.transform(data[cast_name])\n",
    "      data[cast_character] = character_encoder.transform(data[cast_character])\n",
    "     \n",
    "\n",
    "    # Applying hashing encoding on two catigoral columns ('keywords', 'production_companies')\n",
    "    # keywords column\n",
    "    data = data.join(pd.DataFrame((keywords_hasher.fit_transform(data.pop('keywords')).toarray()), columns=keywords_hash_columns, index=data.index))\n",
    "    # production_companies column\n",
    "    data = data.join(pd.DataFrame((production_companies_hasher.fit_transform(data.pop('production_companies')).toarray()), columns=production_companies_hash_columns, index=data.index))\n",
    "    \n",
    "    # Applying TF-IDF on the overview column\n",
    "    overview_vectors  = tfidf.fit_transform(data['overview'])        \n",
    "    data['overview'] = list(overview_vectors.toarray())\n",
    "    data['overview'] = data['overview'].apply(lambda x: sum(x) / len(x))\n",
    "    \n",
    "\n",
    "    num_cols = data.select_dtypes(include=['int', 'float']).columns.tolist()\n",
    "    # Normalizing the numerical columns\n",
    "    data[num_cols] = scaler.fit_transform(data[num_cols])\n",
    "    \n",
    "        \n",
    "    data.drop('homepage',axis=1,inplace=True)\n",
    "    data.drop('id',axis=1,inplace=True)\n",
    "    data.drop('original_title',axis=1,inplace=True)\n",
    "    data.drop('tagline',axis=1,inplace=True)\n",
    "    data.drop('title',axis=1,inplace=True)\n",
    "    data.drop('crew',axis=1,inplace=True)\n",
    "   \n",
    "    # Rate column\n",
    "    rate_encoder.fit(y)\n",
    "    y = rate_encoder.transform(y)\n",
    "\n",
    "    return data, y\n",
    "\n",
    "\n",
    "X_Train, Y_Train = Preprocessing(X_Train, Y_Train, movies)\n",
    "\n",
    "encoders = {\n",
    "        'genres_mlb': genres_mlb,\n",
    "        'spoken_languages_mlb': spoken_languages_mlb,\n",
    "        'production_countries_mlb': production_countries_mlb,\n",
    "        'original_language_encoder': original_language_encoder,\n",
    "        'status_encoder': status_encoder,\n",
    "        'name_encoder': name_encoder,\n",
    "        'character_encoder': character_encoder,\n",
    "        'rate_encoder': rate_encoder\n",
    "    }\n",
    "\n",
    "hashers = {\n",
    "        'keywords_hasher': keywords_hasher,\n",
    "        'production_companies_hasher': production_companies_hasher\n",
    "    }\n",
    "\n",
    "# Save the encoding objects, hashers, vectorizer, and scalers\n",
    "save_encoders(encoders)\n",
    "save_hashers(hashers)\n",
    "save_tfidf_vectorizer(tfidf)\n",
    "save_scalers(scaler)\n",
    "save_missing_values(missingValues)\n",
    "\n",
    "X_Test = join_columns(X_Test, movies)\n",
    "X_Test = nonModels_preprocessing_script(X_Test)\n",
    "X_Test, Y_Test = apply_encodings(X_Test, Y_Test)\n",
    "\n",
    " "
   ]
  },
  {
   "cell_type": "code",
   "execution_count": 21,
   "metadata": {},
   "outputs": [
    {
     "name": "stdout",
     "output_type": "stream",
     "text": [
      "        budget  original_language  overview  viewercount  release_date  \\\n",
      "2925  0.064286                0.2  0.771909     0.017035      0.786517   \n",
      "507   0.267857                0.2  0.521937     0.017294      0.797753   \n",
      "924   0.160714                0.2  0.581516     0.007138      0.775281   \n",
      "2116  0.149667                0.2  0.246699     0.003169      0.853933   \n",
      "1363  0.250000                0.2  0.439711     0.027023      0.921348   \n",
      "\n",
      "       revenue   runtime  status  vote_count  cast_0_character  ...  \\\n",
      "2925  0.002883  0.239057     1.0    0.012726          0.085409  ...   \n",
      "507   0.016745  0.212121     1.0    0.024507          0.840302  ...   \n",
      "924   0.044309  0.171717     1.0    0.007199          0.599644  ...   \n",
      "2116  0.044309  0.225589     1.0    0.002182          0.106317  ...   \n",
      "1363  0.037642  0.168350     1.0    0.040361          0.136121  ...   \n",
      "\n",
      "     production_companies_hash_10  production_companies_hash_11  \\\n",
      "2925                          0.6                          0.50   \n",
      "507                           0.6                          0.25   \n",
      "924                           0.6                          0.25   \n",
      "2116                          0.6                          0.50   \n",
      "1363                          0.4                          0.25   \n",
      "\n",
      "     production_companies_hash_12  production_companies_hash_13  \\\n",
      "2925                          0.5                          0.25   \n",
      "507                           0.5                          0.50   \n",
      "924                           0.5                          0.50   \n",
      "2116                          0.5                          0.50   \n",
      "1363                          0.5                          0.50   \n",
      "\n",
      "      production_companies_hash_14  production_companies_hash_15  \\\n",
      "2925                           0.6                           0.5   \n",
      "507                            0.6                           0.5   \n",
      "924                            0.6                           0.5   \n",
      "2116                           0.6                           0.5   \n",
      "1363                           0.6                           0.5   \n",
      "\n",
      "      production_companies_hash_16  production_companies_hash_17  \\\n",
      "2925                           0.5                           0.4   \n",
      "507                            0.5                           0.6   \n",
      "924                            0.5                           0.6   \n",
      "2116                           0.5                           0.4   \n",
      "1363                           0.5                           0.4   \n",
      "\n",
      "      production_companies_hash_18  production_companies_hash_19  \n",
      "2925                           0.5                           0.2  \n",
      "507                            0.5                           0.6  \n",
      "924                            0.5                           0.4  \n",
      "2116                           0.5                           0.2  \n",
      "1363                           0.5                           0.4  \n",
      "\n",
      "[5 rows x 211 columns]\n"
     ]
    }
   ],
   "source": [
    "print(X_Train.head())"
   ]
  },
  {
   "cell_type": "code",
   "execution_count": 22,
   "metadata": {},
   "outputs": [
    {
     "name": "stdout",
     "output_type": "stream",
     "text": [
      "        budget  original_language  overview  viewercount  release_date  \\\n",
      "1014  0.014286                0.2  0.247068     0.027595      0.988764   \n",
      "794   0.028571                0.2  0.391920     0.002454      0.775281   \n",
      "1414  0.053571                0.2  0.481381     0.007832      0.820225   \n",
      "1790  0.296429                0.2  0.258986     0.007136      0.820225   \n",
      "263   0.033929                0.2  0.493600     0.016109      0.966292   \n",
      "\n",
      "       revenue   runtime  status  vote_count  cast_0_character  ...  \\\n",
      "1014  0.018804  0.168350     1.0    0.074249          1.140569  ...   \n",
      "794   0.044309  0.188552     1.0    0.002109          1.037811  ...   \n",
      "1414  0.012113  0.265993     1.0    0.011199          1.141459  ...   \n",
      "1790  0.021330  0.164983     1.0    0.009672          1.218861  ...   \n",
      "263   0.002798  0.158249     1.0    0.024216          1.206406  ...   \n",
      "\n",
      "     production_companies_hash_10  production_companies_hash_11  \\\n",
      "1014                          0.4                          0.50   \n",
      "794                           0.6                          0.50   \n",
      "1414                          0.6                          0.25   \n",
      "1790                          0.6                          0.50   \n",
      "263                           0.6                          0.50   \n",
      "\n",
      "     production_companies_hash_12  production_companies_hash_13  \\\n",
      "1014                          0.5                           0.5   \n",
      "794                           0.5                           0.5   \n",
      "1414                          0.5                           0.5   \n",
      "1790                          0.5                           0.5   \n",
      "263                           0.5                           0.5   \n",
      "\n",
      "      production_companies_hash_14  production_companies_hash_15  \\\n",
      "1014                           0.6                           0.5   \n",
      "794                            0.6                           0.5   \n",
      "1414                           0.6                           0.5   \n",
      "1790                           0.6                           0.5   \n",
      "263                            0.6                           0.5   \n",
      "\n",
      "      production_companies_hash_16  production_companies_hash_17  \\\n",
      "1014                          0.50                           0.4   \n",
      "794                           0.50                           0.4   \n",
      "1414                          0.50                           0.4   \n",
      "1790                          0.50                           0.4   \n",
      "263                           0.25                           0.4   \n",
      "\n",
      "      production_companies_hash_18  production_companies_hash_19  \n",
      "1014                           0.5                           0.4  \n",
      "794                            0.5                           0.4  \n",
      "1414                           0.5                           0.4  \n",
      "1790                           0.5                           0.4  \n",
      "263                            0.5                           0.6  \n",
      "\n",
      "[5 rows x 211 columns]\n"
     ]
    }
   ],
   "source": [
    "print(X_Test.head())"
   ]
  },
  {
   "attachments": {},
   "cell_type": "markdown",
   "metadata": {},
   "source": [
    "## Feature selection"
   ]
  },
  {
   "cell_type": "code",
   "execution_count": 23,
   "metadata": {},
   "outputs": [],
   "source": [
    "model = LogisticRegression(max_iter=5000)\n",
    "# Recursive Feature Elemination\n",
    "rfe = RFE(model, n_features_to_select=30)\n",
    "\n",
    "rfe.fit(X_Train, Y_Train)\n",
    "\n",
    "X_Train = rfe.transform(X_Train)\n",
    "\n",
    "save_feature_selection(rfe)\n",
    "\n",
    "X_Test = rfe.transform(X_Test)"
   ]
  },
  {
   "attachments": {},
   "cell_type": "markdown",
   "metadata": {},
   "source": [
    "## Models"
   ]
  },
  {
   "attachments": {},
   "cell_type": "markdown",
   "metadata": {},
   "source": [
    "### Decision Tree Classifier"
   ]
  },
  {
   "cell_type": "code",
   "execution_count": 24,
   "metadata": {},
   "outputs": [
    {
     "name": "stdout",
     "output_type": "stream",
     "text": [
      "Decision Tree Classifier without any change of hyperparameters: 0.61\n",
      "\n",
      "Decision Tree Classifier accuracy with changing of hyperparameters\n",
      "max_depth: 2, min_samples_split: 10, accuracy: 0.67\n",
      "max_depth: 2, min_samples_split: 15, accuracy: 0.67\n",
      "max_depth: 2, min_samples_split: 37, accuracy: 0.67\n",
      "max_depth: 2, min_samples_split: 28, accuracy: 0.67\n",
      "max_depth: 5, min_samples_split: 10, accuracy: 0.70\n",
      "max_depth: 5, min_samples_split: 15, accuracy: 0.70\n",
      "max_depth: 5, min_samples_split: 37, accuracy: 0.70\n",
      "max_depth: 5, min_samples_split: 28, accuracy: 0.70\n",
      "max_depth: 7, min_samples_split: 10, accuracy: 0.70\n",
      "max_depth: 7, min_samples_split: 15, accuracy: 0.70\n",
      "max_depth: 7, min_samples_split: 37, accuracy: 0.71\n",
      "max_depth: 7, min_samples_split: 28, accuracy: 0.70\n",
      "max_depth: 10, min_samples_split: 10, accuracy: 0.63\n",
      "max_depth: 10, min_samples_split: 15, accuracy: 0.62\n",
      "max_depth: 10, min_samples_split: 37, accuracy: 0.68\n",
      "max_depth: 10, min_samples_split: 28, accuracy: 0.67\n",
      "\n",
      "The values that will give the biggest accuracy for Decision Tree Classifier are:\n",
      "Max Depth:  7, Min Samples Split:  37, Accuracy:  0.71\n"
     ]
    }
   ],
   "source": [
    "\n",
    "dt_total_train_time = 0\n",
    "dt_total_test_time = 0\n",
    "\n",
    "# Decision Tree Classifier without any change of hyperparameters\n",
    "dt = DecisionTreeClassifier(random_state=42)\n",
    "\n",
    "dt_train_start_time = time.time()\n",
    "dt.fit(X_Train, Y_Train)\n",
    "dt_train_time = time.time() - dt_train_start_time\n",
    "dt_total_train_time += dt_train_time\n",
    "\n",
    "dt_test_start_time = time.time()\n",
    "y_pred = dt.predict(X_Test)\n",
    "dt_test_time = time.time() - dt_test_start_time\n",
    "dt_total_test_time += dt_test_time\n",
    "\n",
    "dt_accuracy = accuracy_score(Y_Test, y_pred)\n",
    "\n",
    "print(f\"Decision Tree Classifier without any change of hyperparameters: {dt_accuracy:.2f}\\n\")\n",
    "\n",
    "\n",
    "# Define a list of hyperparameters to test\n",
    "max_depths =  [2, 5, 7, 10]  \n",
    "min_samples_splits = [10, 15, 37, 28]  \n",
    "\n",
    "dt = DecisionTreeClassifier(random_state=42)\n",
    "\n",
    "dt_max_accuracy = 0\n",
    "samples = 0\n",
    "dep = 0\n",
    "\n",
    "print(\"Decision Tree Classifier accuracy with changing of hyperparameters\")\n",
    "\n",
    "# Train and evaluate the model for each hyperparameter combination\n",
    "for depth in max_depths:\n",
    "    for samples_split in min_samples_splits:\n",
    "\n",
    "        dt = dt.set_params(max_depth=depth, min_samples_split=samples_split)\n",
    "            \n",
    "                \n",
    "        dt_train_start_time = time.time()\n",
    "        dt.fit(X_Train, Y_Train)\n",
    "        dt_train_time = time.time() - dt_train_start_time\n",
    "        dt_total_train_time += dt_train_time\n",
    "\n",
    "\n",
    "        dt_test_start_time = time.time()\n",
    "        y_pred = dt.predict(X_Test)\n",
    "        dt_test_time = time.time() - dt_test_start_time\n",
    "        dt_total_test_time += dt_test_time\n",
    "\n",
    "        dt_accuracy = accuracy_score(Y_Test, y_pred)\n",
    "\n",
    "        if(dt_accuracy > dt_max_accuracy):\n",
    "            dt_max_accuracy = dt_accuracy\n",
    "            samples = samples_split\n",
    "            dep = depth \n",
    "            \n",
    "        print(f\"max_depth: {depth}, min_samples_split: {samples_split}, accuracy: {dt_accuracy:.2f}\")\n",
    "           \n",
    "\n",
    "print(\"\\nThe values that will give the biggest accuracy for Decision Tree Classifier are:\")\n",
    "print(f\"Max Depth:  {dep}, Min Samples Split:  {samples}, Accuracy:  {dt_max_accuracy:.2f}\")\n",
    "\n",
    "best_dt = DecisionTreeClassifier(max_depth=dep, min_samples_split=samples, random_state=42)\n",
    "best_dt.fit(X_Train, Y_Train)\n",
    "save_model(best_dt, 'best_dt_model.pkl')\n"
   ]
  },
  {
   "attachments": {},
   "cell_type": "markdown",
   "metadata": {},
   "source": [
    "### Random Forest Classifier"
   ]
  },
  {
   "cell_type": "code",
   "execution_count": 25,
   "metadata": {},
   "outputs": [
    {
     "name": "stdout",
     "output_type": "stream",
     "text": [
      "\n",
      "\n",
      "\n",
      "Random Forest Classifier accuracy without any change of hyperparameters: 0.73\n",
      "\n",
      "n_estimators: 50, max_depth: 20, criterion: gini, accuracy: 0.73\n",
      "n_estimators: 50, max_depth: 20, criterion: entropy, accuracy: 0.73\n",
      "n_estimators: 50, max_depth: 30, criterion: gini, accuracy: 0.71\n",
      "n_estimators: 50, max_depth: 30, criterion: entropy, accuracy: 0.73\n",
      "n_estimators: 50, max_depth: 40, criterion: gini, accuracy: 0.72\n",
      "n_estimators: 50, max_depth: 40, criterion: entropy, accuracy: 0.73\n",
      "n_estimators: 50, max_depth: 41, criterion: gini, accuracy: 0.72\n",
      "n_estimators: 50, max_depth: 41, criterion: entropy, accuracy: 0.73\n",
      "n_estimators: 50, max_depth: 45, criterion: gini, accuracy: 0.72\n",
      "n_estimators: 50, max_depth: 45, criterion: entropy, accuracy: 0.73\n",
      "n_estimators: 100, max_depth: 20, criterion: gini, accuracy: 0.73\n",
      "n_estimators: 100, max_depth: 20, criterion: entropy, accuracy: 0.74\n",
      "n_estimators: 100, max_depth: 30, criterion: gini, accuracy: 0.73\n",
      "n_estimators: 100, max_depth: 30, criterion: entropy, accuracy: 0.74\n",
      "n_estimators: 100, max_depth: 40, criterion: gini, accuracy: 0.72\n",
      "n_estimators: 100, max_depth: 40, criterion: entropy, accuracy: 0.73\n",
      "n_estimators: 100, max_depth: 41, criterion: gini, accuracy: 0.73\n",
      "n_estimators: 100, max_depth: 41, criterion: entropy, accuracy: 0.73\n",
      "n_estimators: 100, max_depth: 45, criterion: gini, accuracy: 0.73\n",
      "n_estimators: 100, max_depth: 45, criterion: entropy, accuracy: 0.73\n",
      "n_estimators: 200, max_depth: 20, criterion: gini, accuracy: 0.74\n",
      "n_estimators: 200, max_depth: 20, criterion: entropy, accuracy: 0.74\n",
      "n_estimators: 200, max_depth: 30, criterion: gini, accuracy: 0.73\n",
      "n_estimators: 200, max_depth: 30, criterion: entropy, accuracy: 0.73\n",
      "n_estimators: 200, max_depth: 40, criterion: gini, accuracy: 0.73\n",
      "n_estimators: 200, max_depth: 40, criterion: entropy, accuracy: 0.74\n",
      "n_estimators: 200, max_depth: 41, criterion: gini, accuracy: 0.73\n",
      "n_estimators: 200, max_depth: 41, criterion: entropy, accuracy: 0.74\n",
      "n_estimators: 200, max_depth: 45, criterion: gini, accuracy: 0.73\n",
      "n_estimators: 200, max_depth: 45, criterion: entropy, accuracy: 0.74\n",
      "n_estimators: 250, max_depth: 20, criterion: gini, accuracy: 0.74\n",
      "n_estimators: 250, max_depth: 20, criterion: entropy, accuracy: 0.74\n",
      "n_estimators: 250, max_depth: 30, criterion: gini, accuracy: 0.73\n",
      "n_estimators: 250, max_depth: 30, criterion: entropy, accuracy: 0.74\n",
      "n_estimators: 250, max_depth: 40, criterion: gini, accuracy: 0.74\n",
      "n_estimators: 250, max_depth: 40, criterion: entropy, accuracy: 0.74\n",
      "n_estimators: 250, max_depth: 41, criterion: gini, accuracy: 0.74\n",
      "n_estimators: 250, max_depth: 41, criterion: entropy, accuracy: 0.74\n",
      "n_estimators: 250, max_depth: 45, criterion: gini, accuracy: 0.74\n",
      "n_estimators: 250, max_depth: 45, criterion: entropy, accuracy: 0.74\n",
      "n_estimators: 300, max_depth: 20, criterion: gini, accuracy: 0.74\n",
      "n_estimators: 300, max_depth: 20, criterion: entropy, accuracy: 0.74\n",
      "n_estimators: 300, max_depth: 30, criterion: gini, accuracy: 0.73\n",
      "n_estimators: 300, max_depth: 30, criterion: entropy, accuracy: 0.75\n",
      "n_estimators: 300, max_depth: 40, criterion: gini, accuracy: 0.73\n",
      "n_estimators: 300, max_depth: 40, criterion: entropy, accuracy: 0.75\n",
      "n_estimators: 300, max_depth: 41, criterion: gini, accuracy: 0.73\n",
      "n_estimators: 300, max_depth: 41, criterion: entropy, accuracy: 0.75\n",
      "n_estimators: 300, max_depth: 45, criterion: gini, accuracy: 0.73\n",
      "n_estimators: 300, max_depth: 45, criterion: entropy, accuracy: 0.75\n",
      "\n",
      "The values that will give the biggest accuracy for Random Forest Classifier are:\n",
      "N Estimators:  300, Max Depth:  41, Criterion:  entropy, Accuracy:  0.75\n"
     ]
    }
   ],
   "source": [
    "rf_total_train_time = 0\n",
    "rf_total_test_time = 0\n",
    "\n",
    "# Random Forest Classifier without any change of hyperparameters\n",
    "rf = RandomForestClassifier(random_state=42)\n",
    "\n",
    "rf_train_start_time = time.time()\n",
    "rf.fit(X_Train, Y_Train)\n",
    "rf_train_time = time.time() - rf_train_start_time\n",
    "rf_total_train_time += rf_train_time\n",
    "\n",
    "rf_test_start_time = time.time()\n",
    "y_pred = rf.predict(X_Test)\n",
    "rf_test_time = time.time() - rf_test_start_time\n",
    "rf_total_test_time += rf_test_time\n",
    "\n",
    "rf_accuracy = accuracy_score(Y_Test, y_pred)\n",
    "\n",
    "print(f\"\\n\\n\\nRandom Forest Classifier accuracy without any change of hyperparameters: {rf_accuracy:.2f}\\n\")\n",
    "\n",
    "# Define a list of hyperparameters to test\n",
    "n_estimators_list = [50, 100, 200, 250, 300]  \n",
    "max_depth_list = [20, 30, 40, 41, 45] \n",
    "criterions = ['gini', 'entropy']\n",
    "\n",
    "rf = RandomForestClassifier(random_state=79)\n",
    "\n",
    "rf_max_accuracy = 0\n",
    "n = 0\n",
    "dep = 0\n",
    "fun = ''\n",
    "\n",
    "# Train and evaluate the model for each hyperparameter combination\n",
    "for n_estimator in n_estimators_list:\n",
    "    for depth in max_depth_list:\n",
    "        for criterion in criterions:\n",
    "    \n",
    "            rf = rf.set_params(n_estimators=n_estimator, max_depth=depth, criterion = criterion)\n",
    "                    \n",
    "            rf_train_start_time = time.time()\n",
    "            rf.fit(X_Train, Y_Train)\n",
    "            rf_train_time = time.time() - rf_train_start_time\n",
    "            rf_total_train_time += rf_train_time\n",
    "\n",
    "            rf_test_start_time = time.time()\n",
    "            y_pred = rf.predict(X_Test)\n",
    "            rf_test_time = time.time() - rf_test_start_time\n",
    "            rf_total_test_time += rf_test_time\n",
    "\n",
    "            rf_accuracy = accuracy_score(Y_Test, y_pred)\n",
    "            \n",
    "            if(rf_accuracy > rf_max_accuracy):\n",
    "                rf_max_accuracy = rf_accuracy\n",
    "                n = n_estimator\n",
    "                dep = depth \n",
    "                fun = criterion\n",
    "                \n",
    "\n",
    "            print(f\"n_estimators: {n_estimator}, max_depth: {depth}, criterion: {criterion}, accuracy: {rf_accuracy :.2f}\")\n",
    "\n",
    "\n",
    "print(\"\\nThe values that will give the biggest accuracy for Random Forest Classifier are:\")\n",
    "print(f\"N Estimators:  {n}, Max Depth:  {dep}, Criterion:  {criterion}, Accuracy:  {rf_max_accuracy:.2f}\")\n",
    "\n",
    "\n",
    "\n",
    "best_rf = RandomForestClassifier(n_estimators=n, max_depth=dep, criterion = fun, random_state=79)\n",
    "best_rf.fit(X_Train, Y_Train)\n",
    "save_model(best_rf, 'best_rf_model.pkl')\n"
   ]
  },
  {
   "attachments": {},
   "cell_type": "markdown",
   "metadata": {},
   "source": [
    "### Logistic Regression Classifier"
   ]
  },
  {
   "cell_type": "code",
   "execution_count": 26,
   "metadata": {},
   "outputs": [
    {
     "name": "stdout",
     "output_type": "stream",
     "text": [
      "\n",
      "\n",
      "\n",
      "Logistic Regression accuracy without any change of hyperparameters: 0.71\n",
      "\n",
      "Penalty: l1, C: 0.1, Solver: liblinear, Max Iterations: 100, Accuracy: 0.69\n",
      "Penalty: l1, C: 0.1, Solver: liblinear, Max Iterations: 200, Accuracy: 0.69\n",
      "Penalty: l1, C: 0.1, Solver: liblinear, Max Iterations: 300, Accuracy: 0.69\n",
      "Penalty: l1, C: 0.1, Solver: saga, Max Iterations: 100, Accuracy: 0.70\n",
      "Penalty: l1, C: 0.1, Solver: saga, Max Iterations: 200, Accuracy: 0.70\n",
      "Penalty: l1, C: 0.1, Solver: saga, Max Iterations: 300, Accuracy: 0.70\n",
      "Penalty: l1, C: 1, Solver: liblinear, Max Iterations: 100, Accuracy: 0.71\n",
      "Penalty: l1, C: 1, Solver: liblinear, Max Iterations: 200, Accuracy: 0.71\n",
      "Penalty: l1, C: 1, Solver: liblinear, Max Iterations: 300, Accuracy: 0.71\n"
     ]
    },
    {
     "name": "stderr",
     "output_type": "stream",
     "text": [
      "c:\\Users\\zozom\\anaconda3\\envs\\ml\\lib\\site-packages\\sklearn\\linear_model\\_sag.py:329: ConvergenceWarning: The max_iter was reached which means the coef_ did not converge\n",
      "  \"the coef_ did not converge\", ConvergenceWarning)\n"
     ]
    },
    {
     "name": "stdout",
     "output_type": "stream",
     "text": [
      "Penalty: l1, C: 1, Solver: saga, Max Iterations: 100, Accuracy: 0.71\n"
     ]
    },
    {
     "name": "stderr",
     "output_type": "stream",
     "text": [
      "c:\\Users\\zozom\\anaconda3\\envs\\ml\\lib\\site-packages\\sklearn\\linear_model\\_sag.py:329: ConvergenceWarning: The max_iter was reached which means the coef_ did not converge\n",
      "  \"the coef_ did not converge\", ConvergenceWarning)\n"
     ]
    },
    {
     "name": "stdout",
     "output_type": "stream",
     "text": [
      "Penalty: l1, C: 1, Solver: saga, Max Iterations: 200, Accuracy: 0.71\n"
     ]
    },
    {
     "name": "stderr",
     "output_type": "stream",
     "text": [
      "c:\\Users\\zozom\\anaconda3\\envs\\ml\\lib\\site-packages\\sklearn\\linear_model\\_sag.py:329: ConvergenceWarning: The max_iter was reached which means the coef_ did not converge\n",
      "  \"the coef_ did not converge\", ConvergenceWarning)\n"
     ]
    },
    {
     "name": "stdout",
     "output_type": "stream",
     "text": [
      "Penalty: l1, C: 1, Solver: saga, Max Iterations: 300, Accuracy: 0.71\n",
      "Penalty: l1, C: 10, Solver: liblinear, Max Iterations: 100, Accuracy: 0.70\n",
      "Penalty: l1, C: 10, Solver: liblinear, Max Iterations: 200, Accuracy: 0.70\n",
      "Penalty: l1, C: 10, Solver: liblinear, Max Iterations: 300, Accuracy: 0.70\n"
     ]
    },
    {
     "name": "stderr",
     "output_type": "stream",
     "text": [
      "c:\\Users\\zozom\\anaconda3\\envs\\ml\\lib\\site-packages\\sklearn\\linear_model\\_sag.py:329: ConvergenceWarning: The max_iter was reached which means the coef_ did not converge\n",
      "  \"the coef_ did not converge\", ConvergenceWarning)\n"
     ]
    },
    {
     "name": "stdout",
     "output_type": "stream",
     "text": [
      "Penalty: l1, C: 10, Solver: saga, Max Iterations: 100, Accuracy: 0.71\n"
     ]
    },
    {
     "name": "stderr",
     "output_type": "stream",
     "text": [
      "c:\\Users\\zozom\\anaconda3\\envs\\ml\\lib\\site-packages\\sklearn\\linear_model\\_sag.py:329: ConvergenceWarning: The max_iter was reached which means the coef_ did not converge\n",
      "  \"the coef_ did not converge\", ConvergenceWarning)\n"
     ]
    },
    {
     "name": "stdout",
     "output_type": "stream",
     "text": [
      "Penalty: l1, C: 10, Solver: saga, Max Iterations: 200, Accuracy: 0.71\n"
     ]
    },
    {
     "name": "stderr",
     "output_type": "stream",
     "text": [
      "c:\\Users\\zozom\\anaconda3\\envs\\ml\\lib\\site-packages\\sklearn\\linear_model\\_sag.py:329: ConvergenceWarning: The max_iter was reached which means the coef_ did not converge\n",
      "  \"the coef_ did not converge\", ConvergenceWarning)\n"
     ]
    },
    {
     "name": "stdout",
     "output_type": "stream",
     "text": [
      "Penalty: l1, C: 10, Solver: saga, Max Iterations: 300, Accuracy: 0.71\n",
      "Penalty: l1, C: 100, Solver: liblinear, Max Iterations: 100, Accuracy: 0.70\n",
      "Penalty: l1, C: 100, Solver: liblinear, Max Iterations: 200, Accuracy: 0.70\n",
      "Penalty: l1, C: 100, Solver: liblinear, Max Iterations: 300, Accuracy: 0.70\n"
     ]
    },
    {
     "name": "stderr",
     "output_type": "stream",
     "text": [
      "c:\\Users\\zozom\\anaconda3\\envs\\ml\\lib\\site-packages\\sklearn\\linear_model\\_sag.py:329: ConvergenceWarning: The max_iter was reached which means the coef_ did not converge\n",
      "  \"the coef_ did not converge\", ConvergenceWarning)\n"
     ]
    },
    {
     "name": "stdout",
     "output_type": "stream",
     "text": [
      "Penalty: l1, C: 100, Solver: saga, Max Iterations: 100, Accuracy: 0.71\n"
     ]
    },
    {
     "name": "stderr",
     "output_type": "stream",
     "text": [
      "c:\\Users\\zozom\\anaconda3\\envs\\ml\\lib\\site-packages\\sklearn\\linear_model\\_sag.py:329: ConvergenceWarning: The max_iter was reached which means the coef_ did not converge\n",
      "  \"the coef_ did not converge\", ConvergenceWarning)\n"
     ]
    },
    {
     "name": "stdout",
     "output_type": "stream",
     "text": [
      "Penalty: l1, C: 100, Solver: saga, Max Iterations: 200, Accuracy: 0.71\n"
     ]
    },
    {
     "name": "stderr",
     "output_type": "stream",
     "text": [
      "c:\\Users\\zozom\\anaconda3\\envs\\ml\\lib\\site-packages\\sklearn\\linear_model\\_sag.py:329: ConvergenceWarning: The max_iter was reached which means the coef_ did not converge\n",
      "  \"the coef_ did not converge\", ConvergenceWarning)\n"
     ]
    },
    {
     "name": "stdout",
     "output_type": "stream",
     "text": [
      "Penalty: l1, C: 100, Solver: saga, Max Iterations: 300, Accuracy: 0.70\n",
      "Penalty: l2, C: 0.1, Solver: liblinear, Max Iterations: 100, Accuracy: 0.66\n",
      "Penalty: l2, C: 0.1, Solver: liblinear, Max Iterations: 200, Accuracy: 0.66\n",
      "Penalty: l2, C: 0.1, Solver: liblinear, Max Iterations: 300, Accuracy: 0.66\n",
      "Penalty: l2, C: 0.1, Solver: saga, Max Iterations: 100, Accuracy: 0.68\n",
      "Penalty: l2, C: 0.1, Solver: saga, Max Iterations: 200, Accuracy: 0.68\n",
      "Penalty: l2, C: 0.1, Solver: saga, Max Iterations: 300, Accuracy: 0.68\n",
      "Penalty: l2, C: 1, Solver: liblinear, Max Iterations: 100, Accuracy: 0.70\n",
      "Penalty: l2, C: 1, Solver: liblinear, Max Iterations: 200, Accuracy: 0.70\n",
      "Penalty: l2, C: 1, Solver: liblinear, Max Iterations: 300, Accuracy: 0.70\n",
      "Penalty: l2, C: 1, Solver: saga, Max Iterations: 100, Accuracy: 0.71\n",
      "Penalty: l2, C: 1, Solver: saga, Max Iterations: 200, Accuracy: 0.71\n",
      "Penalty: l2, C: 1, Solver: saga, Max Iterations: 300, Accuracy: 0.71\n",
      "Penalty: l2, C: 10, Solver: liblinear, Max Iterations: 100, Accuracy: 0.71\n",
      "Penalty: l2, C: 10, Solver: liblinear, Max Iterations: 200, Accuracy: 0.71\n",
      "Penalty: l2, C: 10, Solver: liblinear, Max Iterations: 300, Accuracy: 0.71\n"
     ]
    },
    {
     "name": "stderr",
     "output_type": "stream",
     "text": [
      "c:\\Users\\zozom\\anaconda3\\envs\\ml\\lib\\site-packages\\sklearn\\linear_model\\_sag.py:329: ConvergenceWarning: The max_iter was reached which means the coef_ did not converge\n",
      "  \"the coef_ did not converge\", ConvergenceWarning)\n"
     ]
    },
    {
     "name": "stdout",
     "output_type": "stream",
     "text": [
      "Penalty: l2, C: 10, Solver: saga, Max Iterations: 100, Accuracy: 0.71\n",
      "Penalty: l2, C: 10, Solver: saga, Max Iterations: 200, Accuracy: 0.71\n",
      "Penalty: l2, C: 10, Solver: saga, Max Iterations: 300, Accuracy: 0.71\n",
      "Penalty: l2, C: 100, Solver: liblinear, Max Iterations: 100, Accuracy: 0.70\n",
      "Penalty: l2, C: 100, Solver: liblinear, Max Iterations: 200, Accuracy: 0.70\n",
      "Penalty: l2, C: 100, Solver: liblinear, Max Iterations: 300, Accuracy: 0.70\n"
     ]
    },
    {
     "name": "stderr",
     "output_type": "stream",
     "text": [
      "c:\\Users\\zozom\\anaconda3\\envs\\ml\\lib\\site-packages\\sklearn\\linear_model\\_sag.py:329: ConvergenceWarning: The max_iter was reached which means the coef_ did not converge\n",
      "  \"the coef_ did not converge\", ConvergenceWarning)\n"
     ]
    },
    {
     "name": "stdout",
     "output_type": "stream",
     "text": [
      "Penalty: l2, C: 100, Solver: saga, Max Iterations: 100, Accuracy: 0.71\n"
     ]
    },
    {
     "name": "stderr",
     "output_type": "stream",
     "text": [
      "c:\\Users\\zozom\\anaconda3\\envs\\ml\\lib\\site-packages\\sklearn\\linear_model\\_sag.py:329: ConvergenceWarning: The max_iter was reached which means the coef_ did not converge\n",
      "  \"the coef_ did not converge\", ConvergenceWarning)\n"
     ]
    },
    {
     "name": "stdout",
     "output_type": "stream",
     "text": [
      "Penalty: l2, C: 100, Solver: saga, Max Iterations: 200, Accuracy: 0.71\n",
      "Penalty: l2, C: 100, Solver: saga, Max Iterations: 300, Accuracy: 0.71\n",
      "\n",
      "The values that will give the biggest accuracy for Logistic Regression are:\n",
      "Penalty: l2, C: 10, Solver: liblinear, Max Iterations: 300, Accuracy: 0.71\n"
     ]
    },
    {
     "name": "stderr",
     "output_type": "stream",
     "text": [
      "c:\\Users\\zozom\\anaconda3\\envs\\ml\\lib\\site-packages\\sklearn\\linear_model\\_sag.py:329: ConvergenceWarning: The max_iter was reached which means the coef_ did not converge\n",
      "  \"the coef_ did not converge\", ConvergenceWarning)\n"
     ]
    }
   ],
   "source": [
    "lr_total_train_time = 0\n",
    "lr_total_test_time = 0\n",
    "\n",
    "# Logistic Regression Classifier without any change of hyperparameters\n",
    "lr = LogisticRegression(max_iter=5000)\n",
    "\n",
    "lr_train_start_time = time.time()\n",
    "lr.fit(X_Train, Y_Train)\n",
    "lr_train_time = time.time() - lr_train_start_time\n",
    "lr_total_train_time += lr_train_time\n",
    "\n",
    "lr_test_start_time = time.time()\n",
    "y_pred = lr.predict(X_Test)\n",
    "lr_test_time = time.time() - lr_test_start_time\n",
    "lr_total_test_time += lr_test_time\n",
    "\n",
    "lr_accuracy = accuracy_score(Y_Test, y_pred)\n",
    "\n",
    "print(f\"\\n\\n\\nLogistic Regression accuracy without any change of hyperparameters: {lr_accuracy:.2f}\\n\")\n",
    "\n",
    "\n",
    "# Define a list of hyperparameters to test\n",
    "penalty_list = ['l1', 'l2']\n",
    "C_list = [0.1, 1, 10, 100]\n",
    "solver_list = ['liblinear','saga']\n",
    "max_iter_list = [100,200, 300]\n",
    "\n",
    "lr = LogisticRegression(max_iter=5000)\n",
    "\n",
    "lr_max_accuracy = 0\n",
    "pen = ''\n",
    "c = 0\n",
    "solv = ''\n",
    "max_iter = 0\n",
    "\n",
    "# Train and evaluate the model for each hyperparameter combination\n",
    "for penalty in penalty_list:\n",
    "    for C in C_list:\n",
    "        for solver in solver_list:\n",
    "            for max_iter in max_iter_list:\n",
    "\n",
    "                lr = lr.set_params(penalty=penalty, C=C, solver=solver, max_iter=max_iter)\n",
    "                \n",
    "                lr_train_start_time = time.time()\n",
    "                lr.fit(X_Train, Y_Train)\n",
    "                lr_train_time = time.time() - lr_train_start_time\n",
    "                lr_total_train_time += lr_train_time\n",
    "\n",
    "                lr_test_start_time = time.time()\n",
    "                y_pred = lr.predict(X_Test)\n",
    "                lr_test_time = time.time() - lr_test_start_time\n",
    "                lr_total_test_time += lr_test_time\n",
    "\n",
    "                lr_accuracy = accuracy_score(Y_Test, y_pred)\n",
    "        \n",
    "                if(lr_accuracy > lr_max_accuracy):\n",
    "                    lr_max_accuracy = lr_accuracy\n",
    "                    pen = penalty\n",
    "                    c = C\n",
    "                    solv = solver\n",
    "                    max_iter = max_iter\n",
    "\n",
    "                print(f\"Penalty: {penalty}, C: {C}, Solver: {solver}, Max Iterations: {max_iter}, Accuracy: {lr_accuracy :.2f}\")\n",
    "\n",
    "print(\"\\nThe values that will give the biggest accuracy for Logistic Regression are:\")\n",
    "print(f\"Penalty: {pen}, C: {c}, Solver: {solv}, Max Iterations: {max_iter}, Accuracy: {lr_max_accuracy :.2f}\")\n",
    "\n",
    "\n",
    "\n",
    "best_lr = LogisticRegression(penalty=pen, C=c, solver=solv, max_iter=max_iter)\n",
    "best_lr.fit(X_Train, Y_Train)\n",
    "save_model(best_lr, 'best_lr_model.pkl')\n"
   ]
  },
  {
   "attachments": {},
   "cell_type": "markdown",
   "metadata": {},
   "source": [
    "## Test script"
   ]
  },
  {
   "cell_type": "code",
   "execution_count": 27,
   "metadata": {},
   "outputs": [
    {
     "name": "stderr",
     "output_type": "stream",
     "text": [
      "c:\\Users\\zozom\\anaconda3\\envs\\ml\\lib\\site-packages\\sklearn\\preprocessing\\_label.py:861: UserWarning: unknown class(es) ['am', 'bs', 'ca', 'ce', 'co', 'km', 'mi', 'sa', 'si'] will be ignored\n",
      "  .format(sorted(unknown, key=str)))\n",
      "c:\\Users\\zozom\\anaconda3\\envs\\ml\\lib\\site-packages\\sklearn\\preprocessing\\_label.py:861: UserWarning: unknown class(es) ['Aruba', 'Libyan Arab Jamahiriya', 'Serbia'] will be ignored\n",
      "  .format(sorted(unknown, key=str)))\n"
     ]
    },
    {
     "name": "stdout",
     "output_type": "stream",
     "text": [
      "Decision Tree Classifier accuracy: 0.71%\n",
      "Random Forest Classifier accuracy: 0.75%\n",
      "Logistic Regression Classifier accuracy: 0.71%\n"
     ]
    }
   ],
   "source": [
    "    \n",
    "# Test script\n",
    "def test_script(data, movies):\n",
    "\n",
    "    data = pd.read_csv(data)\n",
    "    X = data.iloc[:, :19] \n",
    "    Y = data['Rate']\n",
    "    movies = pd.read_csv(movies)\n",
    "\n",
    "    X = join_columns(X, movies)\n",
    "\n",
    "    X = nonModels_preprocessing_script(X)\n",
    "    X, Y = apply_encodings(X, Y)\n",
    "\n",
    "    rfe = load_feature_selection()\n",
    "    X = rfe.transform(X)\n",
    "\n",
    "    best_dt = load_model('best_dt_model.pkl')\n",
    "    y_pred = best_dt.predict(X)\n",
    "    best_dt_accuracy = accuracy_score(Y, y_pred)\n",
    "    print(f\"Decision Tree Classifier accuracy: {best_dt_accuracy:.2f}%\")\n",
    "\n",
    "    best_rf  = load_model('best_rf_model.pkl')\n",
    "    y_pred = best_rf.predict(X)\n",
    "    best_rf_accuracy = accuracy_score(Y, y_pred)\n",
    "    print(f\"Random Forest Classifier accuracy: {best_rf_accuracy:.2f}%\")\n",
    "\n",
    "    best_lr  = load_model('best_lr_model.pkl')\n",
    "    y_pred = best_lr.predict(X)\n",
    "    best_lr_accuracy = accuracy_score(Y, y_pred)\n",
    "    print(f\"Logistic Regression Classifier accuracy: {best_lr_accuracy:.2f}%\")\n",
    "\n",
    "\n",
    "    \n",
    "        \n",
    "\n",
    "# Test the model using a new CSV file\n",
    "test_script('test.csv', 'movies-credit-students-train.csv')\n",
    "\n"
   ]
  },
  {
   "attachments": {},
   "cell_type": "markdown",
   "metadata": {},
   "source": [
    "## Bar graphs"
   ]
  },
  {
   "cell_type": "code",
   "execution_count": 28,
   "metadata": {},
   "outputs": [
    {
     "data": {
      "image/png": "[encoded data removed]",
      "text/plain": [
       "<Figure size 432x288 with 1 Axes>"
      ]
     },
     "metadata": {
      "needs_background": "light"
     },
     "output_type": "display_data"
    },
    {
     "data": {
      "image/png": "[encoded data removed]",
      "text/plain": [
       "<Figure size 432x288 with 1 Axes>"
      ]
     },
     "metadata": {
      "needs_background": "light"
     },
     "output_type": "display_data"
    },
    {
     "data": {
      "image/png": "[encoded data removed]",
      "text/plain": [
       "<Figure size 432x288 with 1 Axes>"
      ]
     },
     "metadata": {
      "needs_background": "light"
     },
     "output_type": "display_data"
    }
   ],
   "source": [
    "# Classification accuracy bar graph\n",
    "labels = ['Decision Tree', 'Random Forest', 'Logistic Regression']\n",
    "\n",
    "accuracy = [dt_max_accuracy, rf_max_accuracy, lr_max_accuracy]\n",
    "plt.bar(labels, accuracy)\n",
    "plt.title('Classification Accuracy')\n",
    "plt.xlabel('Model')\n",
    "plt.ylabel('Accuracy')\n",
    "plt.show()\n",
    "\n",
    "# Total training time bar graph\n",
    "training_time = [dt_total_train_time, rf_total_train_time, lr_total_train_time]\n",
    "plt.bar(labels, training_time)\n",
    "plt.title('Total Training Time')\n",
    "plt.xlabel('Model')\n",
    "plt.ylabel('Time (minutes)')\n",
    "plt.show()\n",
    "\n",
    "# Total test time bar graph\n",
    "test_time = [dt_total_test_time, rf_total_test_time, lr_total_test_time]\n",
    "plt.bar(labels, test_time)\n",
    "plt.title('Total Test Time')\n",
    "plt.xlabel('Model')\n",
    "plt.ylabel('Time (seconds)')\n",
    "plt.show()\n"
   ]
  }
 ],
 "metadata": {
  "kernelspec": {
   "display_name": "ml",
   "language": "python",
   "name": "python3"
  },
  "language_info": {
   "codemirror_mode": {
    "name": "ipython",
    "version": 3
   },
   "file_extension": ".py",
   "mimetype": "text/x-python",
   "name": "python",
   "nbconvert_exporter": "python",
   "pygments_lexer": "ipython3",
   "version": "3.6.13"
  },
  "orig_nbformat": 4
 },
 "nbformat": 4,
 "nbformat_minor": 2
}
