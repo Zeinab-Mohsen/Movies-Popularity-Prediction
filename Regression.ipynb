{
 "cells": [
  {
   "attachments": {},
   "cell_type": "markdown",
   "metadata": {},
   "source": [
    "## Imports"
   ]
  },
  {
   "cell_type": "code",
   "execution_count": 1,
   "metadata": {},
   "outputs": [],
   "source": [
    "import ast\n",
    "import pickle\n",
    "import numpy as np\n",
    "import pandas as pd\n",
    "import seaborn as sns\n",
    "from sklearn import metrics\n",
    "from sklearn.svm import SVR\n",
    "from collections import Counter\n",
    "import matplotlib.pyplot as plt\n",
    "from sklearn.metrics import r2_score\n",
    "from sklearn.feature_selection import RFE\n",
    "from sklearn.preprocessing import MinMaxScaler\n",
    "from sklearn.preprocessing import LabelEncoder\n",
    "from sklearn.metrics import mean_squared_error\n",
    "from sklearn.preprocessing import StandardScaler\n",
    "from sklearn.linear_model import LinearRegression\n",
    "from sklearn.preprocessing import PolynomialFeatures\n",
    "from sklearn.feature_extraction import FeatureHasher\n",
    "from sklearn.model_selection import train_test_split\n",
    "from sklearn.preprocessing import MultiLabelBinarizer\n",
    "from sklearn.feature_extraction.text import TfidfVectorizer\n",
    "\n"
   ]
  },
  {
   "attachments": {},
   "cell_type": "markdown",
   "metadata": {},
   "source": [
    "## Global variables"
   ]
  },
  {
   "cell_type": "code",
   "execution_count": 2,
   "metadata": {},
   "outputs": [],
   "source": [
    "scaler = MinMaxScaler()\n",
    "\n",
    "# One hot encoding\n",
    "genres_mlb = MultiLabelBinarizer()\n",
    "spoken_languages_mlb = MultiLabelBinarizer()\n",
    "production_countries_mlb = MultiLabelBinarizer()\n",
    "\n",
    "# Label encoding\n",
    "original_language_encoder = LabelEncoder()\n",
    "status_encoder = LabelEncoder()\n",
    "name_encoder = LabelEncoder()\n",
    "character_encoder = LabelEncoder()\n",
    "\n",
    "# Hashing encoding\n",
    "keywords_hash_num = 30    #Change this Number for more accuracy\n",
    "keywords_hash_columns = []\n",
    "hash_column_name = ''\n",
    "\n",
    "for i in range(keywords_hash_num):\n",
    "  hash_column_name = 'keywords_hash_' + str(i)\n",
    "  keywords_hash_columns.append(hash_column_name)\n",
    "\n",
    "keywords_hasher = FeatureHasher(n_features=keywords_hash_num, input_type='string')\n",
    "\n",
    "\n",
    "production_companies_hash_num = 20 #Change this Number for more accuracy\n",
    "production_companies_hash_columns = []\n",
    "hash_column_name = ''\n",
    "\n",
    "for i in range(production_companies_hash_num):\n",
    "  hash_column_name = 'production_companies_hash_' + str(i)\n",
    "  production_companies_hash_columns.append(hash_column_name)\n",
    "\n",
    "production_companies_hasher = FeatureHasher(n_features=production_companies_hash_num, input_type='string')\n",
    "\n",
    "\n",
    "tfidf  = TfidfVectorizer(stop_words='english')\n",
    "\n",
    "\n",
    "cast_num = 1  \n",
    "cast_columns = []\n",
    "cast_character = ''\n",
    "cast_gender = ''\n",
    "cast_name = ''\n",
    "cast_order = ''\n",
    "\n",
    "for i in range(cast_num):\n",
    "  cast_character = 'cast_' + str(i) + '_character'\n",
    "  cast_gender = 'cast_' + str(i) + '_gender'\n",
    "  cast_name = 'cast_' + str(i) + '_name'\n",
    "  cast_order = 'cast_' + str(i) + '_order'\n",
    "\n",
    "  cast_columns.append(cast_character)\n",
    "  cast_columns.append(cast_gender)\n",
    "  cast_columns.append(cast_name)\n",
    "  cast_columns.append(cast_order)\n",
    "\n",
    "\n",
    "missingValues = {\n",
    "    'budget'  :  None,\n",
    "    'genres'  :  None,\n",
    "    'homepage'  :  None,\n",
    "    'id'  :  None,\n",
    "    'keywords'  :  None,\n",
    "    'original_language'  :  None,\n",
    "    'original_title'  :  None,\n",
    "    'overview'  :  None,\n",
    "    'viewercount'  :  None,\n",
    "    'production_companies'  :  None,\n",
    "    'production_countries'  :  None,\n",
    "    'release_date'  :  None,\n",
    "    'revenue'  :  None,\n",
    "    'runtime'  :  None,\n",
    "    'spoken_languages'  :  None,\n",
    "    'status'  :  None,\n",
    "    'tagline'  :  None,\n",
    "    'title'  :  None,\n",
    "    'vote_count'  :  None,\n",
    "    'cast'  :  None,\n",
    "    'crew'  :  None,\n",
    "}\n"
   ]
  },
  {
   "attachments": {},
   "cell_type": "markdown",
   "metadata": {},
   "source": [
    "## Helper functions"
   ]
  },
  {
   "attachments": {},
   "cell_type": "markdown",
   "metadata": {},
   "source": [
    "### Save the models"
   ]
  },
  {
   "cell_type": "code",
   "execution_count": 3,
   "metadata": {},
   "outputs": [],
   "source": [
    "\n",
    "# Save the encoding objects\n",
    "def save_encoders(encoding):\n",
    "    with open('encoders.pkl', 'wb') as file:\n",
    "        pickle.dump(encoding, file)\n",
    "\n",
    "# Save the feature hashers\n",
    "def save_hashers(hash):\n",
    "    with open('hashers.pkl', 'wb') as file:\n",
    "        pickle.dump(hash, file)\n",
    "\n",
    "# Save the TF-IDF vectorizer\n",
    "def save_tfidf_vectorizer(tf_idf):\n",
    "    with open('tfidf_vectorizer.pkl', 'wb') as file:\n",
    "        pickle.dump(tf_idf, file)\n",
    "\n",
    "# Save the scalers\n",
    "def save_scalers(scale):\n",
    "    with open('scalers.pkl', 'wb') as file:\n",
    "        pickle.dump(scale, file)\n",
    "\n",
    "# Save the feature selection\n",
    "def save_feature_selection(feature):\n",
    "    with open('feature_selection.pkl', 'wb') as file:\n",
    "        pickle.dump(feature, file)\n",
    "\n",
    "# Save the model\n",
    "def save_model(model, filename):\n",
    "    with open(filename, 'wb') as file:\n",
    "        pickle.dump(model, file)\n",
    "\n",
    "\n",
    "  \n",
    "# Save the missing values\n",
    "def save_missing_values(missingValues):\n",
    "    with open('missing_values.pkl', 'wb') as file:\n",
    "        pickle.dump(missingValues, file)\n",
    "     \n",
    "\n"
   ]
  },
  {
   "attachments": {},
   "cell_type": "markdown",
   "metadata": {},
   "source": [
    "### Load the models"
   ]
  },
  {
   "cell_type": "code",
   "execution_count": 4,
   "metadata": {},
   "outputs": [],
   "source": [
    "\n",
    "# Load the encoding objects\n",
    "def load_encoders():\n",
    "    with open('encoders.pkl', 'rb') as file:\n",
    "        encodings = pickle.load(file)\n",
    "\n",
    "        \n",
    "    genres_mlb = encodings['genres_mlb']\n",
    "    spoken_languages_mlb = encodings['spoken_languages_mlb']\n",
    "    production_countries_mlb = encodings['production_countries_mlb']\n",
    "    original_language_encoder = encodings['original_language_encoder']\n",
    "    status_encoder = encodings['status_encoder']\n",
    "    name_encoder = encodings['name_encoder']\n",
    "    character_encoder = encodings['character_encoder']\n",
    "    \n",
    "    return genres_mlb, spoken_languages_mlb, production_countries_mlb, original_language_encoder, status_encoder, name_encoder, character_encoder\n",
    "\n",
    "# Load the feature hashers\n",
    "def load_hashers():\n",
    "    with open('hashers.pkl', 'rb') as file:\n",
    "        hashing = pickle.load(file)\n",
    "\n",
    "    keywords_hasher = hashing['keywords_hasher']\n",
    "    production_companies_hasher = hashing['production_companies_hasher']\n",
    "\n",
    "    return keywords_hasher, production_companies_hasher\n",
    "    \n",
    "\n",
    "# Load the TF-IDF vectorizer\n",
    "def load_tfidf_vectorizer():\n",
    "    with open('tfidf_vectorizer.pkl', 'rb') as file:\n",
    "        return pickle.load(file)\n",
    "\n",
    "\n",
    "# Load the scalers\n",
    "def load_scalers():\n",
    "    with open('scalers.pkl', 'rb') as file:\n",
    "        return pickle.load(file)\n",
    "\n",
    "# Load the feature selection\n",
    "def load_feature_selection():\n",
    "    with open('feature_selection.pkl', 'rb') as file:\n",
    "        return pickle.load(file)\n",
    "\n",
    "# Load the models\n",
    "def load_model(filename):\n",
    "    with open(filename, 'rb') as file:\n",
    "        return pickle.load(file)\n",
    "    \n",
    "# Load the missing values\n",
    "def load_missing_values():\n",
    "    with open('missing_values.pkl', 'rb') as file:\n",
    "        return pickle.load(file)\n",
    "\n"
   ]
  },
  {
   "attachments": {},
   "cell_type": "markdown",
   "metadata": {},
   "source": [
    "### Adding a new label in label encoding"
   ]
  },
  {
   "cell_type": "code",
   "execution_count": 5,
   "metadata": {},
   "outputs": [],
   "source": [
    "def unseen(data, encoder, columnName):\n",
    "    unseen_values = list(set(data[columnName]) - set(encoder.classes_))\n",
    "    if unseen_values:\n",
    "        for unseen in unseen_values:\n",
    "            if unseen not in encoder.classes_:\n",
    "                new_label = max(encoder.transform(encoder.classes_)) + 1\n",
    "                encoder.classes_ = np.append(encoder.classes_, unseen)\n",
    "                encoder.transform([unseen])[0] = new_label\n",
    "\n"
   ]
  },
  {
   "attachments": {},
   "cell_type": "markdown",
   "metadata": {},
   "source": [
    "### Converting list of dictionaries to normal list of elements\n"
   ]
  },
  {
   "cell_type": "code",
   "execution_count": 6,
   "metadata": {},
   "outputs": [],
   "source": [
    "def transformColumn(enteredData, columnName, dictionaryKey):\n",
    "    enteredData[columnName] = [ast.literal_eval(row) for row in enteredData[columnName]]\n",
    "    for index, row in enteredData[columnName].items():\n",
    "        finalList = []\n",
    "        for j in range(len(row)):\n",
    "            finalList.append(row[j][dictionaryKey])\n",
    "        enteredData.at[index, columnName] = finalList\n"
   ]
  },
  {
   "cell_type": "code",
   "execution_count": 7,
   "metadata": {},
   "outputs": [],
   "source": [
    "def transformMoviesColumns(enteredData, columnName, dictionaryKey1, dictionaryKey2, dictionaryKey3, dictionaryKey4):\n",
    "  enteredData[columnName] = [ast.literal_eval(row) for row in enteredData[columnName]]\n",
    "  for index, row in enteredData[columnName].items():\n",
    "    finalList = []\n",
    "    for j in range(len(row)):\n",
    "      fList = []\n",
    "      fList.append(row[j][dictionaryKey1])\n",
    "      fList.append(row[j][dictionaryKey2])\n",
    "      fList.append(row[j][dictionaryKey3])\n",
    "      fList.append(row[j][dictionaryKey4])\n",
    "      finalList.append(fList)\n",
    "    enteredData.at[index, columnName] = finalList\n"
   ]
  },
  {
   "attachments": {},
   "cell_type": "markdown",
   "metadata": {},
   "source": [
    "### Filling missing values"
   ]
  },
  {
   "attachments": {},
   "cell_type": "markdown",
   "metadata": {},
   "source": [
    "#### Filling missing values in numerical columns with mean value\n"
   ]
  },
  {
   "cell_type": "code",
   "execution_count": 8,
   "metadata": {},
   "outputs": [],
   "source": [
    "def fillNumericalData(enteredData, columnName):\n",
    "  mean_val = np.mean(enteredData[enteredData[columnName] != 0][columnName])\n",
    "  enteredData[columnName] = enteredData[columnName].replace(0, mean_val)\n",
    "  missingValues[columnName] = mean_val\n",
    "  enteredData[columnName] =  enteredData[columnName].fillna(mean_val)\n"
   ]
  },
  {
   "attachments": {},
   "cell_type": "markdown",
   "metadata": {},
   "source": [
    "#### Filling missing values in categoral columns with mod category \n"
   ]
  },
  {
   "cell_type": "code",
   "execution_count": 9,
   "metadata": {},
   "outputs": [],
   "source": [
    "def fillCategoralData(enteredData, columnName):\n",
    "    list_counter = Counter(tuple(lst) for lst in enteredData[columnName])\n",
    "    mode_list = list(max(list_counter, key=list_counter.get))\n",
    "    if not mode_list:\n",
    "        mode_list = list(sorted(list_counter, key=list_counter.get, reverse=True)[1])\n",
    "    enteredData[columnName] = enteredData[columnName].apply(lambda x: x if x else mode_list)\n",
    "    missingValues[columnName] = mode_list\n",
    "\n"
   ]
  },
  {
   "cell_type": "code",
   "execution_count": 10,
   "metadata": {},
   "outputs": [],
   "source": [
    "def fillMoviesCategoralData(enteredData, columnName):\n",
    "    tuple_counter = Counter(tuple(inner_lst) for lst in enteredData[columnName] for inner_lst in lst)\n",
    "    mode_tuple = max(tuple_counter, key=tuple_counter.get)\n",
    "    mode_list = [list(mode_tuple)]\n",
    "    if not mode_list:\n",
    "        mode_list = [list(sorted(tuple_counter, key=tuple_counter.get, reverse=True)[1])]\n",
    "    enteredData[columnName] = enteredData[columnName].apply(lambda lst: lst if lst else mode_list)\n",
    "    missingValues[columnName] = mode_list\n",
    "\n"
   ]
  },
  {
   "attachments": {},
   "cell_type": "markdown",
   "metadata": {},
   "source": [
    "### Preprocessing to the non-models "
   ]
  },
  {
   "cell_type": "code",
   "execution_count": 11,
   "metadata": {},
   "outputs": [],
   "source": [
    "\n",
    "def nonModels_preprocessing(data):\n",
    "    # converting list of dectionaries to normal lists of elements using \"transformColumn\" function\n",
    "    # genres column\n",
    "    transformColumn(data, 'genres', 'name')\n",
    "    # keywords column\n",
    "    transformColumn(data, 'keywords', 'name')\n",
    "    # production_companies column\n",
    "    transformColumn(data, 'production_companies', 'name')\n",
    "    # production_countries column\n",
    "    transformColumn(data, 'production_countries', 'name')\n",
    "    # spoken_languages column\n",
    "    transformColumn(data, 'spoken_languages', 'iso_639_1')\n",
    "    # cast column\n",
    "    transformMoviesColumns(data, 'cast', 'character', 'gender', 'name', 'order')\n",
    "    # crew column\n",
    "    transformMoviesColumns(data, 'crew', 'name', 'department', 'gender', 'job')\n",
    "\n",
    "    # Only leaving the year from the release date column\n",
    "    data['release_date'] = data['release_date'].str[-4:].astype(int)\n",
    "    \n",
    "    # fill missing values of categoral data with mod category using \"fillCategoralData\" function\n",
    "    # genres column\n",
    "    fillCategoralData(data, 'genres')\n",
    "    # keywords column\n",
    "    fillCategoralData(data, 'keywords')\n",
    "    # spoken_languages column\n",
    "    fillCategoralData(data, 'spoken_languages')\n",
    "    # production_companies column\n",
    "    fillCategoralData(data, 'production_companies')\n",
    "    # production_countries column\n",
    "    fillCategoralData(data, 'production_countries')\n",
    "    # cast column\n",
    "    fillMoviesCategoralData(data, 'cast')\n",
    "    # crew column\n",
    "    fillMoviesCategoralData(data, 'crew')\n",
    "\n",
    "    # fill missing values in numerical columns with mean value in column \n",
    "    # budget column\n",
    "    fillNumericalData(data, 'budget')\n",
    "    # id column\n",
    "    fillNumericalData(data, 'id')\n",
    "    # viewercount column\n",
    "    fillNumericalData(data, 'viewercount')\n",
    "    # release_date column\n",
    "    fillNumericalData(data, 'release_date')\n",
    "    # revenue column\n",
    "    fillNumericalData(data, 'revenue')\n",
    "    # runtime column\n",
    "    fillNumericalData(data, 'runtime')\n",
    "    # vote_count column\n",
    "    fillNumericalData(data, 'vote_count')\n",
    "   \n",
    "\n",
    "    # fill missing values in textual columns with mod value in column\n",
    "    # homepage column\n",
    "    missingValues['homepage'] = (data['homepage'].mode()[0])\n",
    "    data['homepage'] = data['homepage'].fillna(data['homepage'].mode()[0])\n",
    "    \n",
    "    # tagline column\n",
    "    missingValues['tagline'] = (data['tagline'].mode()[0])\n",
    "    data['tagline'] = data['tagline'].fillna(data['tagline'].mode()[0])\n",
    "    \n",
    "    # overview column\n",
    "    missingValues['overview'] = (data['overview'].mode()[0])\n",
    "    data['overview'] = data['overview'].fillna(data['overview'].mode()[0])\n",
    "    \n",
    "    # original_language column\n",
    "    missingValues['original_language'] = (data['original_language'].mode()[0])\n",
    "    data['original_language'] =  data['original_language'].fillna(data['original_language'].mode()[0])\n",
    "    \n",
    "    # original_title column\n",
    "    missingValues['original_title'] = (data['original_title'].mode()[0])\n",
    "    data['original_title'] =  data['original_title'].fillna(data['original_title'].mode()[0])\n",
    "    \n",
    "    # status column\n",
    "    missingValues['status'] = (data['status'].mode()[0])\n",
    "    data['status'] =  data['status'].fillna(data['status'].mode()[0])\n",
    "    \n",
    "    # status column\n",
    "    missingValues['title'] = (data['title'].mode()[0])\n",
    "    data['title'] =  data['title'].fillna(data['title'].mode()[0])\n",
    "\n",
    "\n",
    "\n",
    "    # Placing the values from the cast column to a column of it's own  \n",
    "    data = data.join(pd.DataFrame(columns=cast_columns, index = data.index))\n",
    "    for index, row in data.iterrows():\n",
    "      k = 0\n",
    "      for j in range(cast_num):\n",
    "        if(j > len(row['cast']) - 1):\n",
    "          break \n",
    "        data.at[index, cast_columns[k]] = row['cast'][j][0]\n",
    "        k += 1\n",
    "        data.at[index, cast_columns[k]] = row['cast'][j][1]\n",
    "        k += 1\n",
    "        data.at[index, cast_columns[k]] = row['cast'][j][2]\n",
    "        k += 1\n",
    "        data.at[index, cast_columns[k]] = row['cast'][j][3]\n",
    "        k += 1\n",
    "\n",
    "    data.drop('cast',axis=1,inplace=True)\n",
    "    \n",
    "    return data\n"
   ]
  },
  {
   "cell_type": "code",
   "execution_count": 12,
   "metadata": {},
   "outputs": [],
   "source": [
    "\n",
    "def fillMissingTestData(data):\n",
    "    missingValues = load_missing_values()\n",
    "    \n",
    "    categoralColumns = ['genres', 'keywords', 'spoken_languages',\n",
    "                        'production_companies', 'production_countries', 'cast', 'crew']\n",
    "    for i in categoralColumns:\n",
    "        data[i] = data[i].apply(lambda x: x if x else missingValues[i])\n",
    "   \n",
    "    numericalColumns = ['budget', 'id', 'viewercount',\n",
    "                    'release_date', 'revenue', 'runtime', 'vote_count']\n",
    "    for i in numericalColumns:\n",
    "        data[i] = data[i].replace(0, missingValues[i])\n",
    "        data[i] =  data[i].fillna(missingValues[i])\n",
    "\n",
    "    textualColumns = ['homepage', 'original_title', 'tagline',\n",
    "                      'title', 'status', 'overview', 'original_language']\n",
    "    for i in textualColumns:\n",
    "        data[i] =  data[i].fillna(missingValues[i])\n",
    "\n",
    "    return data\n",
    "    \n"
   ]
  },
  {
   "cell_type": "code",
   "execution_count": 13,
   "metadata": {},
   "outputs": [],
   "source": [
    "\n",
    "def nonModels_preprocessing_script(data):\n",
    "    # converting list of dectionaries to normal lists of elements using \"transformColumn\" function\n",
    "    # genres column\n",
    "    transformColumn(data, 'genres', 'name')\n",
    "    # keywords column\n",
    "    transformColumn(data, 'keywords', 'name')\n",
    "    # production_companies column\n",
    "    transformColumn(data, 'production_companies', 'name')\n",
    "    # production_countries column\n",
    "    transformColumn(data, 'production_countries', 'name')\n",
    "    # spoken_languages column\n",
    "    transformColumn(data, 'spoken_languages', 'iso_639_1')\n",
    "    # cast column\n",
    "    transformMoviesColumns(data, 'cast', 'character', 'gender', 'name', 'order')\n",
    "    # crew column\n",
    "    transformMoviesColumns(data, 'crew', 'name', 'department', 'gender', 'job')\n",
    "\n",
    "    # Only leaving the year from the release date column\n",
    "    data['release_date'] = data['release_date'].str[-4:].astype(int)\n",
    "\n",
    "    data = fillMissingTestData(data)\n",
    "\n",
    "    # Placing the values from the cast column to a column of it's own  \n",
    "    data = data.join(pd.DataFrame(columns=cast_columns, index = data.index))\n",
    "    for index, row in data.iterrows():\n",
    "      k = 0\n",
    "      for j in range(cast_num):\n",
    "        if(j > len(row['cast']) - 1):\n",
    "          break \n",
    "        data.at[index, cast_columns[k]] = row['cast'][j][0]\n",
    "        k += 1\n",
    "        data.at[index, cast_columns[k]] = row['cast'][j][1]\n",
    "        k += 1\n",
    "        data.at[index, cast_columns[k]] = row['cast'][j][2]\n",
    "        k += 1\n",
    "        data.at[index, cast_columns[k]] = row['cast'][j][3]\n",
    "        k += 1\n",
    "\n",
    "    data.drop('cast',axis=1,inplace=True)\n",
    "    \n",
    "    \n",
    "    return data\n"
   ]
  },
  {
   "attachments": {},
   "cell_type": "markdown",
   "metadata": {},
   "source": [
    "## Load data"
   ]
  },
  {
   "cell_type": "code",
   "execution_count": 14,
   "metadata": {},
   "outputs": [],
   "source": [
    "data = pd.read_csv('movies-regression-dataset.csv')\n",
    "X = data.iloc[:, :19] \n",
    "Y = data['vote_average']\n",
    "movies = pd.read_csv('movies-credit-students-train.csv')\n"
   ]
  },
  {
   "attachments": {},
   "cell_type": "markdown",
   "metadata": {},
   "source": [
    "## Add the cast and crew columns to X dataFrame"
   ]
  },
  {
   "cell_type": "code",
   "execution_count": 15,
   "metadata": {},
   "outputs": [],
   "source": [
    "def join_columns(data, movies):\n",
    "  # Add two empty columns to the DataFrame\n",
    "  data = data.join(pd.DataFrame(movies['cast'], columns=['cast'], index = data.index))\n",
    "  data = data.join(pd.DataFrame(movies['crew'], columns=['crew'], index = data.index))\n",
    "\n",
    "  # Put the cast and crew in the right cells\n",
    "  for dataIndex, dataRow in data.iterrows():\n",
    "    if dataRow['id'] in movies['movie_id'].values:\n",
    "      index = movies.loc[movies['movie_id'] == dataRow['id']].index[0]\n",
    "      data.at[dataIndex, 'cast'] = movies.at[index, 'cast']\n",
    "      data.at[dataIndex, 'crew'] = movies.at[index, 'crew']\n",
    "    else:\n",
    "      data.at[dataIndex, 'cast'] = '[]'\n",
    "      data.at[dataIndex, 'crew'] = '[]'\n",
    "  \n",
    "  return data\n"
   ]
  },
  {
   "attachments": {},
   "cell_type": "markdown",
   "metadata": {},
   "source": [
    "## Explaratory data analysis\n"
   ]
  },
  {
   "attachments": {},
   "cell_type": "markdown",
   "metadata": {},
   "source": [
    "### View data"
   ]
  },
  {
   "cell_type": "code",
   "execution_count": 16,
   "metadata": {},
   "outputs": [
    {
     "name": "stdout",
     "output_type": "stream",
     "text": [
      "     budget                                             genres  \\\n",
      "0  25000000  [{\"id\": 18, \"name\": \"Drama\"}, {\"id\": 10749, \"n...   \n",
      "1  38000000  [{\"id\": 878, \"name\": \"Science Fiction\"}, {\"id\"...   \n",
      "2  20000000  [{\"id\": 36, \"name\": \"History\"}, {\"id\": 18, \"na...   \n",
      "3  23000000  [{\"id\": 18, \"name\": \"Drama\"}, {\"id\": 10749, \"n...   \n",
      "4  52000000  [{\"id\": 28, \"name\": \"Action\"}, {\"id\": 80, \"nam...   \n",
      "\n",
      "                                homepage     id  \\\n",
      "0    http://www.maoslastdancermovie.com/  33870   \n",
      "1                                    NaN    193   \n",
      "2    http://focusfeatures.com/film/milk/  10139   \n",
      "3                                    NaN  11632   \n",
      "4  http://www.frompariswithlovefilm.com/  26389   \n",
      "\n",
      "                                            keywords original_language  \\\n",
      "0  [{\"id\": 4328, \"name\": \"costume\"}, {\"id\": 4528,...                en   \n",
      "1  [{\"id\": 10988, \"name\": \"based on tv series\"}, ...                en   \n",
      "2  [{\"id\": 237, \"name\": \"gay\"}, {\"id\": 582, \"name...                en   \n",
      "3  [{\"id\": 212, \"name\": \"london england\"}, {\"id\":...                en   \n",
      "4  [{\"id\": 90, \"name\": \"paris\"}, {\"id\": 591, \"nam...                en   \n",
      "\n",
      "           original_title                                           overview  \\\n",
      "0       Mao's Last Dancer  At the age of 11, Li was plucked from a poor C...   \n",
      "1  Star Trek: Generations  Captain Jean-Luc Picard and the crew of the En...   \n",
      "2                    Milk  The story of California's first openly gay ele...   \n",
      "3             Vanity Fair  Beautiful, funny, passionate, and calculating,...   \n",
      "4    From Paris with Love  James Reese has a good job as an ambassador's ...   \n",
      "\n",
      "   viewercount                               production_companies  \\\n",
      "0     1.876811  [{\"name\": \"Great Scott Productions Pty. Ltd.\",...   \n",
      "1    14.779041          [{\"name\": \"Paramount Pictures\", \"id\": 4}]   \n",
      "2    30.909699          [{\"name\": \"Focus Features\", \"id\": 10146}]   \n",
      "3     6.618149  [{\"name\": \"Alliance Films\", \"id\": 2514}, {\"nam...   \n",
      "4    27.916284  [{\"name\": \"Apipoula\\u00ef\", \"id\": 1076}, {\"nam...   \n",
      "\n",
      "                                production_countries release_date    revenue  \\\n",
      "0        [{\"iso_3166_1\": \"AU\", \"name\": \"Australia\"}]    10/1/2009   20719451   \n",
      "1  [{\"iso_3166_1\": \"US\", \"name\": \"United States o...   11/17/1994  120000000   \n",
      "2  [{\"iso_3166_1\": \"US\", \"name\": \"United States o...   11/26/2008   54586584   \n",
      "3  [{\"iso_3166_1\": \"GB\", \"name\": \"United Kingdom\"...     9/1/2004   16123851   \n",
      "4  [{\"iso_3166_1\": \"GB\", \"name\": \"United Kingdom\"...     2/5/2010   52826594   \n",
      "\n",
      "   runtime                                   spoken_languages    status  \\\n",
      "0    117.0  [{\"iso_639_1\": \"en\", \"name\": \"English\"}, {\"iso...  Released   \n",
      "1    118.0           [{\"iso_639_1\": \"en\", \"name\": \"English\"}]  Released   \n",
      "2    128.0           [{\"iso_639_1\": \"en\", \"name\": \"English\"}]  Released   \n",
      "3    141.0  [{\"iso_639_1\": \"en\", \"name\": \"English\"}, {\"iso...  Released   \n",
      "4     92.0  [{\"iso_639_1\": \"de\", \"name\": \"Deutsch\"}, {\"iso...  Released   \n",
      "\n",
      "                                  tagline                   title  vote_count  \\\n",
      "0                                   最后的舞者       Mao's Last Dancer          28   \n",
      "1                              Boldly go.  Star Trek: Generations         452   \n",
      "2                         Never Blend In.                    Milk         612   \n",
      "3  On September 1st, a heroine will rise.             Vanity Fair          73   \n",
      "4         Two agents. One city. No merci.    From Paris with Love         675   \n",
      "\n",
      "   vote_average  \n",
      "0           6.8  \n",
      "1           6.4  \n",
      "2           7.1  \n",
      "3           5.5  \n",
      "4           6.1  \n"
     ]
    }
   ],
   "source": [
    "print(data.head())"
   ]
  },
  {
   "attachments": {},
   "cell_type": "markdown",
   "metadata": {},
   "source": [
    "### Data Info"
   ]
  },
  {
   "cell_type": "code",
   "execution_count": 17,
   "metadata": {},
   "outputs": [
    {
     "name": "stdout",
     "output_type": "stream",
     "text": [
      "<class 'pandas.core.frame.DataFrame'>\n",
      "RangeIndex: 3039 entries, 0 to 3038\n",
      "Data columns (total 20 columns):\n",
      " #   Column                Non-Null Count  Dtype  \n",
      "---  ------                --------------  -----  \n",
      " 0   budget                3039 non-null   int64  \n",
      " 1   genres                3039 non-null   object \n",
      " 2   homepage              1129 non-null   object \n",
      " 3   id                    3039 non-null   int64  \n",
      " 4   keywords              3039 non-null   object \n",
      " 5   original_language     3039 non-null   object \n",
      " 6   original_title        3039 non-null   object \n",
      " 7   overview              3038 non-null   object \n",
      " 8   viewercount           3039 non-null   float64\n",
      " 9   production_companies  3039 non-null   object \n",
      " 10  production_countries  3039 non-null   object \n",
      " 11  release_date          3039 non-null   object \n",
      " 12  revenue               3039 non-null   int64  \n",
      " 13  runtime               3038 non-null   float64\n",
      " 14  spoken_languages      3039 non-null   object \n",
      " 15  status                3039 non-null   object \n",
      " 16  tagline               2656 non-null   object \n",
      " 17  title                 3039 non-null   object \n",
      " 18  vote_count            3039 non-null   int64  \n",
      " 19  vote_average          3039 non-null   float64\n",
      "dtypes: float64(3), int64(4), object(13)\n",
      "memory usage: 475.0+ KB\n",
      "None\n"
     ]
    }
   ],
   "source": [
    "print(data.info())"
   ]
  },
  {
   "attachments": {},
   "cell_type": "markdown",
   "metadata": {},
   "source": [
    "### Data Disctription"
   ]
  },
  {
   "cell_type": "code",
   "execution_count": 18,
   "metadata": {},
   "outputs": [
    {
     "name": "stdout",
     "output_type": "stream",
     "text": [
      "             budget             id  viewercount       revenue      runtime  \\\n",
      "count  3.039000e+03    3039.000000  3039.000000  3.039000e+03  3038.000000   \n",
      "mean   3.571232e+07   46828.696282    24.600176  9.834350e+07   109.781106   \n",
      "std    4.171020e+07   77988.231888    33.686634  1.727191e+08    20.951969   \n",
      "min    0.000000e+00       5.000000     0.000372  0.000000e+00     0.000000   \n",
      "25%    7.750000e+06    8370.000000     7.341400  1.068736e+06    96.000000   \n",
      "50%    2.200000e+07   12201.000000    16.234053  3.548561e+07   106.000000   \n",
      "75%    5.000000e+07   44736.000000    31.459205  1.155541e+08   120.000000   \n",
      "max    2.800000e+08  447027.000000   875.581305  2.787965e+09   338.000000   \n",
      "\n",
      "         vote_count  vote_average  \n",
      "count   3039.000000   3039.000000  \n",
      "mean     802.360974      6.188417  \n",
      "std     1296.617065      0.916945  \n",
      "min        0.000000      0.000000  \n",
      "25%       99.500000      5.600000  \n",
      "50%      325.000000      6.200000  \n",
      "75%      907.000000      6.800000  \n",
      "max    13752.000000     10.000000  \n"
     ]
    }
   ],
   "source": [
    "print(data.describe())"
   ]
  },
  {
   "attachments": {},
   "cell_type": "markdown",
   "metadata": {},
   "source": [
    "### Find Duplicates Values "
   ]
  },
  {
   "cell_type": "code",
   "execution_count": 19,
   "metadata": {},
   "outputs": [
    {
     "name": "stdout",
     "output_type": "stream",
     "text": [
      "0\n"
     ]
    }
   ],
   "source": [
    "print(data.duplicated().sum())"
   ]
  },
  {
   "attachments": {},
   "cell_type": "markdown",
   "metadata": {},
   "source": [
    "### Find Missing Values\n"
   ]
  },
  {
   "cell_type": "code",
   "execution_count": 20,
   "metadata": {},
   "outputs": [
    {
     "name": "stdout",
     "output_type": "stream",
     "text": [
      "budget                     0\n",
      "genres                     0\n",
      "homepage                1910\n",
      "id                         0\n",
      "keywords                   0\n",
      "original_language          0\n",
      "original_title             0\n",
      "overview                   1\n",
      "viewercount                0\n",
      "production_companies       0\n",
      "production_countries       0\n",
      "release_date               0\n",
      "revenue                    0\n",
      "runtime                    1\n",
      "spoken_languages           0\n",
      "status                     0\n",
      "tagline                  383\n",
      "title                      0\n",
      "vote_count                 0\n",
      "vote_average               0\n",
      "dtype: int64\n"
     ]
    }
   ],
   "source": [
    "print(data.isna().sum())"
   ]
  },
  {
   "attachments": {},
   "cell_type": "markdown",
   "metadata": {},
   "source": [
    "### Distribution of the vote_average rating"
   ]
  },
  {
   "cell_type": "code",
   "execution_count": 21,
   "metadata": {},
   "outputs": [
    {
     "data": {
      "image/png": "[encoded data removed]",
      "text/plain": [
       "<Figure size 864x720 with 1 Axes>"
      ]
     },
     "metadata": {
      "needs_background": "light"
     },
     "output_type": "display_data"
    },
    {
     "name": "stdout",
     "output_type": "stream",
     "text": [
      "Minimum of Ratings: 0.0\n",
      "Maximum of Ratings: 10.0\n",
      "Average of Ratings: 6.19\n",
      "Variance of Ratings: 0.84\n"
     ]
    }
   ],
   "source": [
    "plt.subplots(figsize=(12,10))\n",
    "n, bins, patches = plt.hist(Y, 30, density=1, facecolor='b', alpha=0.75)\n",
    "\n",
    "plt.xlabel('Vote_average')\n",
    "plt.ylabel('Occurence')\n",
    "plt.title('Distribution of voter average')\n",
    "plt.grid(True)\n",
    "plt.show()\n",
    "print(\"Minimum of Ratings:\", round(min(data['vote_average']),2))\n",
    "print(\"Maximum of Ratings:\", round(max(data['vote_average']),2))\n",
    "print(\"Average of Ratings:\", round(np.mean(data['vote_average']),2))\n",
    "print(\"Variance of Ratings:\",round(np.var(data['vote_average']),2))\n"
   ]
  },
  {
   "attachments": {},
   "cell_type": "markdown",
   "metadata": {},
   "source": [
    "## Split Data"
   ]
  },
  {
   "cell_type": "code",
   "execution_count": 22,
   "metadata": {},
   "outputs": [],
   "source": [
    "X_Train, X_Test, Y_Train, Y_Test = train_test_split(X, Y, test_size = 0.2, random_state = 0)\n",
    "\n",
    "# test_data =  pd.DataFrame(X_Test, columns=X.columns) \n",
    "# test_data['vote_average'] = Y_Test\n",
    "\n",
    "# test_data.to_csv('test.csv', index=False)\n"
   ]
  },
  {
   "attachments": {},
   "cell_type": "markdown",
   "metadata": {},
   "source": [
    "## Preprocessing test Script"
   ]
  },
  {
   "cell_type": "code",
   "execution_count": 23,
   "metadata": {},
   "outputs": [],
   "source": [
    "\n",
    "# Apply the loaded encodings to the test data\n",
    "def apply_encodings(data):\n",
    "    # Load the encoding objects, hashers, vectorizer, and scalers\n",
    "    genres_mlb, spoken_languages_mlb, production_countries_mlb, original_language_encoder, status_encoder, name_encoder, character_encoder =  load_encoders()\n",
    "    keywords_hasher, production_companies_hasher =  load_hashers()\n",
    "    tfidf = load_tfidf_vectorizer()\n",
    "    scaler = load_scalers()\n",
    "    \n",
    "    # Apply one-hot encoding\n",
    "    # genres column\n",
    "    data = data.join(pd.DataFrame(genres_mlb.transform(data.pop('genres')),\n",
    "                                    columns=genres_mlb.classes_,\n",
    "                                    index=data.index))\n",
    "    \n",
    "    # spoken_languages column\n",
    "    data = data.join(pd.DataFrame(spoken_languages_mlb.transform(data.pop('spoken_languages')),\n",
    "                                    columns=spoken_languages_mlb.classes_,\n",
    "                                    index=data.index))\n",
    "    # production_countries column \n",
    "    data = data.join(pd.DataFrame(production_countries_mlb.transform(data.pop('production_countries')),\n",
    "                                    columns=production_countries_mlb.classes_,\n",
    "                                    index=data.index))\n",
    "    \n",
    "\n",
    "    # Apply lable encoding\n",
    "    # original_language column\n",
    "    unseen(data, original_language_encoder, 'original_language')\n",
    "    data['original_language'] = original_language_encoder.transform(data['original_language'])\n",
    "    # status column\n",
    "    unseen(data, status_encoder, 'status')\n",
    "    data['status'] = status_encoder.transform(data['status'])\n",
    "    # cast column\n",
    "    for i in range(cast_num):\n",
    "        cast_name = 'cast_' + str(i) + '_name'\n",
    "        \n",
    "        unseen(data, name_encoder, cast_name)\n",
    "        data[cast_name] = name_encoder.transform(data[cast_name])\n",
    "\n",
    "\n",
    "        cast_character = 'cast_' + str(i) + '_character'\n",
    "\n",
    "        unseen(data, character_encoder, cast_character)\n",
    "        data[cast_character] = character_encoder.transform(data[cast_character])\n",
    "            \n",
    "    # Apply hashing encoding\n",
    "    # keywords column\n",
    "    data = data.join(pd.DataFrame((keywords_hasher.transform(data.pop('keywords')).toarray()), columns=keywords_hash_columns, index=data.index))\n",
    "    # production_companies column\n",
    "    data = data.join(pd.DataFrame((production_companies_hasher.transform(data.pop('production_companies')).toarray()), columns=production_companies_hash_columns, index=data.index))\n",
    "\n",
    "\n",
    "    # Apply TF-IDF \n",
    "    overview_vectors  = tfidf.transform(data['overview'])        \n",
    "    data['overview'] = list(overview_vectors.toarray())\n",
    "    data['overview'] = data['overview'].apply(lambda x: sum(x) / len(x))\n",
    "\n",
    "\n",
    "    # Normalizing the numerical columns\n",
    "    num_cols = data.select_dtypes(include=['int', 'float']).columns.tolist()\n",
    "    data[num_cols] = scaler.transform(data[num_cols])\n",
    "\n",
    "\n",
    "        \n",
    "    data.drop('homepage',axis=1,inplace=True)\n",
    "    data.drop('id',axis=1,inplace=True)\n",
    "    data.drop('original_title',axis=1,inplace=True)\n",
    "    data.drop('tagline',axis=1,inplace=True)\n",
    "    data.drop('title',axis=1,inplace=True)\n",
    "    data.drop('crew',axis=1,inplace=True)\n",
    "\n",
    "\n",
    "    return data\n",
    "\n"
   ]
  },
  {
   "attachments": {},
   "cell_type": "markdown",
   "metadata": {},
   "source": [
    "## Preprocessing"
   ]
  },
  {
   "attachments": {},
   "cell_type": "markdown",
   "metadata": {},
   "source": [
    "### X preprocesing"
   ]
  },
  {
   "cell_type": "code",
   "execution_count": 24,
   "metadata": {},
   "outputs": [
    {
     "name": "stderr",
     "output_type": "stream",
     "text": [
      "c:\\Users\\zozom\\anaconda3\\envs\\ml\\lib\\site-packages\\sklearn\\preprocessing\\_label.py:861: UserWarning: unknown class(es) ['am', 'bs', 'ca', 'ce', 'co', 'km', 'mi', 'sa', 'si'] will be ignored\n",
      "  .format(sorted(unknown, key=str)))\n",
      "c:\\Users\\zozom\\anaconda3\\envs\\ml\\lib\\site-packages\\sklearn\\preprocessing\\_label.py:861: UserWarning: unknown class(es) ['Aruba', 'Libyan Arab Jamahiriya', 'Serbia'] will be ignored\n",
      "  .format(sorted(unknown, key=str)))\n"
     ]
    }
   ],
   "source": [
    "\n",
    "def Preprocessing(data, movie):\n",
    "    data = join_columns(data, movie)\n",
    "\n",
    "    data = nonModels_preprocessing(data)\n",
    "\n",
    "    # Applying one hot encoding on three categoral columns (genres, spoken_languages, production_countries) \n",
    "    # genres column\n",
    "    data = data.join(pd.DataFrame(genres_mlb.fit_transform(data.pop('genres')), columns=genres_mlb.classes_, index=data.index))\n",
    "    \n",
    "    # spoken_languages column\n",
    "    data = data.join(pd.DataFrame(spoken_languages_mlb.fit_transform(data.pop('spoken_languages')), columns=spoken_languages_mlb.classes_, index=data.index))\n",
    "    \n",
    "    # production_countries column\n",
    "    data = data.join(pd.DataFrame(production_countries_mlb.fit_transform(data.pop('production_countries')), columns=production_countries_mlb.classes_, index=data.index))\n",
    "\n",
    "\n",
    "\n",
    "    # Applying lable encoding on column (original_language, status, cast)\n",
    "    # original_language column\n",
    "    original_language_encoder.fit(data['original_language'])\n",
    "    data['original_language'] = original_language_encoder.transform(data['original_language'])\n",
    "    \n",
    "    # status column\n",
    "    status_encoder.fit(data['status'])\n",
    "    data['status'] = status_encoder.transform(data['status'])\n",
    "\n",
    "    # cast column\n",
    "   \n",
    "    for i in range(cast_num):\n",
    "      cast_name = 'cast_' + str(i) + '_name'\n",
    "      cast_character = 'cast_' + str(i) + '_character'\n",
    "\n",
    "      name_encoder.fit(data[cast_name])\n",
    "      character_encoder.fit(data[cast_character])\n",
    "\n",
    "      data[cast_name] = name_encoder.transform(data[cast_name])\n",
    "      data[cast_character] = character_encoder.transform(data[cast_character])\n",
    "     \n",
    "\n",
    "    # Applying hashing encoding on two catigoral columns ('keywords', 'production_companies')\n",
    "    # keywords column\n",
    "    data = data.join(pd.DataFrame((keywords_hasher.fit_transform(data.pop('keywords')).toarray()), columns=keywords_hash_columns, index=data.index))\n",
    "    # production_companies column\n",
    "    data = data.join(pd.DataFrame((production_companies_hasher.fit_transform(data.pop('production_companies')).toarray()), columns=production_companies_hash_columns, index=data.index))\n",
    "    \n",
    "    # Applying TF-IDF on the overview column\n",
    "    overview_vectors  = tfidf.fit_transform(data['overview'])        \n",
    "    data['overview'] = list(overview_vectors.toarray())\n",
    "    data['overview'] = data['overview'].apply(lambda x: sum(x) / len(x))\n",
    "    \n",
    "\n",
    "    num_cols = data.select_dtypes(include=['int', 'float']).columns.tolist()\n",
    "    # Normalizing the numerical columns\n",
    "    data[num_cols] = scaler.fit_transform(data[num_cols])\n",
    "    \n",
    "        \n",
    "    data.drop('homepage',axis=1,inplace=True)\n",
    "    data.drop('id',axis=1,inplace=True)\n",
    "    data.drop('original_title',axis=1,inplace=True)\n",
    "    data.drop('tagline',axis=1,inplace=True)\n",
    "    data.drop('title',axis=1,inplace=True)\n",
    "    data.drop('crew',axis=1,inplace=True)\n",
    "\n",
    "\n",
    "    return data\n",
    "\n",
    "\n",
    "X_Train = Preprocessing(X_Train, movies)\n",
    "\n",
    "encoders = {\n",
    "        'genres_mlb': genres_mlb,\n",
    "        'spoken_languages_mlb': spoken_languages_mlb,\n",
    "        'production_countries_mlb': production_countries_mlb,\n",
    "        'original_language_encoder': original_language_encoder,\n",
    "        'status_encoder': status_encoder,\n",
    "        'name_encoder': name_encoder,\n",
    "        'character_encoder': character_encoder,\n",
    "    }\n",
    "\n",
    "hashers = {\n",
    "        'keywords_hasher': keywords_hasher,\n",
    "        'production_companies_hasher': production_companies_hasher\n",
    "    }\n",
    "\n",
    "# Save the encoding objects, hashers, vectorizer, and scalers\n",
    "save_encoders(encoders)\n",
    "save_hashers(hashers)\n",
    "save_tfidf_vectorizer(tfidf)\n",
    "save_scalers(scaler)\n",
    "save_missing_values(missingValues)\n",
    "\n",
    "X_Test = join_columns(X_Test, movies)\n",
    "X_Test = nonModels_preprocessing_script(X_Test)\n",
    "X_Test = apply_encodings(X_Test)\n",
    "\n",
    " "
   ]
  },
  {
   "cell_type": "code",
   "execution_count": 25,
   "metadata": {},
   "outputs": [
    {
     "name": "stdout",
     "output_type": "stream",
     "text": [
      "        budget  original_language  overview  viewercount  release_date  \\\n",
      "2925  0.064286                0.2  0.771909     0.017035      0.786517   \n",
      "507   0.267857                0.2  0.521937     0.017294      0.797753   \n",
      "924   0.160714                0.2  0.581516     0.007138      0.775281   \n",
      "2116  0.149667                0.2  0.246699     0.003169      0.853933   \n",
      "1363  0.250000                0.2  0.439711     0.027023      0.921348   \n",
      "\n",
      "       revenue   runtime  status  vote_count  cast_0_character  ...  \\\n",
      "2925  0.002883  0.239057     1.0    0.012726          0.085409  ...   \n",
      "507   0.016745  0.212121     1.0    0.024507          0.840302  ...   \n",
      "924   0.044309  0.171717     1.0    0.007199          0.599644  ...   \n",
      "2116  0.044309  0.225589     1.0    0.002182          0.106317  ...   \n",
      "1363  0.037642  0.168350     1.0    0.040361          0.136121  ...   \n",
      "\n",
      "     production_companies_hash_10  production_companies_hash_11  \\\n",
      "2925                          0.6                          0.50   \n",
      "507                           0.6                          0.25   \n",
      "924                           0.6                          0.25   \n",
      "2116                          0.6                          0.50   \n",
      "1363                          0.4                          0.25   \n",
      "\n",
      "     production_companies_hash_12  production_companies_hash_13  \\\n",
      "2925                          0.5                          0.25   \n",
      "507                           0.5                          0.50   \n",
      "924                           0.5                          0.50   \n",
      "2116                          0.5                          0.50   \n",
      "1363                          0.5                          0.50   \n",
      "\n",
      "      production_companies_hash_14  production_companies_hash_15  \\\n",
      "2925                           0.6                           0.5   \n",
      "507                            0.6                           0.5   \n",
      "924                            0.6                           0.5   \n",
      "2116                           0.6                           0.5   \n",
      "1363                           0.6                           0.5   \n",
      "\n",
      "      production_companies_hash_16  production_companies_hash_17  \\\n",
      "2925                           0.5                           0.4   \n",
      "507                            0.5                           0.6   \n",
      "924                            0.5                           0.6   \n",
      "2116                           0.5                           0.4   \n",
      "1363                           0.5                           0.4   \n",
      "\n",
      "      production_companies_hash_18  production_companies_hash_19  \n",
      "2925                           0.5                           0.2  \n",
      "507                            0.5                           0.6  \n",
      "924                            0.5                           0.4  \n",
      "2116                           0.5                           0.2  \n",
      "1363                           0.5                           0.4  \n",
      "\n",
      "[5 rows x 211 columns]\n"
     ]
    }
   ],
   "source": [
    "print(X_Train.head())\n"
   ]
  },
  {
   "attachments": {},
   "cell_type": "markdown",
   "metadata": {},
   "source": [
    "## Feature selection"
   ]
  },
  {
   "cell_type": "code",
   "execution_count": 26,
   "metadata": {},
   "outputs": [],
   "source": [
    "model = LinearRegression()\n",
    "# Recursive Feature Elemination\n",
    "rfe = RFE(model, n_features_to_select=5)\n",
    "\n",
    "rfe.fit(X_Train, Y_Train)\n",
    "\n",
    "X_Train = rfe.transform(X_Train)\n",
    "\n",
    "save_feature_selection(rfe)\n",
    "\n",
    "X_Test = rfe.transform(X_Test)"
   ]
  },
  {
   "attachments": {},
   "cell_type": "markdown",
   "metadata": {},
   "source": [
    "## Models"
   ]
  },
  {
   "attachments": {},
   "cell_type": "markdown",
   "metadata": {},
   "source": [
    "### Polynomial Regression\n"
   ]
  },
  {
   "cell_type": "code",
   "execution_count": 27,
   "metadata": {},
   "outputs": [
    {
     "name": "stdout",
     "output_type": "stream",
     "text": [
      "Train error  0.5227893762164519\n",
      "Testing error  0.5877663446822016\n",
      "R2 For Testing: 0.38599048912136336\n"
     ]
    },
    {
     "data": {
      "image/png": "[encoded data removed]",
      "text/plain": [
       "<Figure size 432x288 with 1 Axes>"
      ]
     },
     "metadata": {
      "needs_background": "light"
     },
     "output_type": "display_data"
    }
   ],
   "source": [
    "\n",
    "c=PolynomialFeatures(2)\n",
    "x_train=c.fit_transform(X_Train)\n",
    "x_test=c.transform(X_Test)\n",
    "lr=LinearRegression()\n",
    "lr.fit(x_train,Y_Train)\n",
    "y_pred_train=lr.predict(x_train)\n",
    "y_pred_test=lr.predict(x_test)\n",
    "\n",
    "r2 = metrics.r2_score(Y_Test, y_pred_test)\n",
    "\n",
    "print(\"Train error  \"+str(mean_squared_error(Y_Train,y_pred_train)))\n",
    "print(\"Testing error  \"+str(mean_squared_error(Y_Test,y_pred_test)))\n",
    "print('R2 For Testing:', r2)\n",
    "\n",
    "plt.scatter(Y_Test, y_pred_test)\n",
    "plt.plot(np.arange(0, 10), np.arange(0, 10), color='r', linestyle='--')\n",
    "plt.xlabel('Actual values')\n",
    "plt.ylabel('Predicted values')\n",
    "plt.title('MSE = {:.2f}'.format(mean_squared_error(Y_Test,y_pred_test)))\n",
    "plt.show()\n",
    "\n",
    "save_model(c, 'PolynomialFeatures_model.pkl')\n",
    "save_model(lr, 'LinearRegression_model.pkl')\n"
   ]
  },
  {
   "attachments": {},
   "cell_type": "markdown",
   "metadata": {},
   "source": [
    "### Support Vector Regression"
   ]
  },
  {
   "cell_type": "code",
   "execution_count": 28,
   "metadata": {},
   "outputs": [
    {
     "name": "stdout",
     "output_type": "stream",
     "text": [
      "Mean Square Error For Train: 0.5697172601023934\n",
      "Mean Square Error For Testing: 0.6427362601284662\n",
      "R2 For Testing: 0.3285662231667512\n"
     ]
    },
    {
     "data": {
      "image/png": "[encoded data removed]",
      "text/plain": [
       "<Figure size 432x288 with 1 Axes>"
      ]
     },
     "metadata": {
      "needs_background": "light"
     },
     "output_type": "display_data"
    }
   ],
   "source": [
    "\n",
    "model = SVR(kernel='linear', C=1.0, epsilon=0.1)\n",
    "model.fit(X_Train, Y_Train.ravel())\n",
    "Y_pred= model.predict(X_Test)\n",
    "Y_pred_train= model.predict(X_Train)\n",
    "meanSqErr = mean_squared_error(Y_Test, Y_pred)\n",
    "meanSqErr_train = mean_squared_error(Y_Train, Y_pred_train)\n",
    "\n",
    "r2 = metrics.r2_score(Y_Test, Y_pred)\n",
    "\n",
    "print('Mean Square Error For Train:', meanSqErr_train)\n",
    "print('Mean Square Error For Testing:', meanSqErr)\n",
    "print('R2 For Testing:', r2)\n",
    "\n",
    "plt.scatter(Y_Test, Y_pred)\n",
    "plt.plot(np.arange(0, 15), np.arange(0, 15), color='r', linestyle='--')\n",
    "plt.fill_between(np.arange(0, 15), np.arange(0, 15), np.arange(0, 15) - meanSqErr, color='green', alpha=0.5)\n",
    "plt.fill_between(np.arange(0, 15), np.arange(0, 15), np.arange(0, 15) + meanSqErr, color='green', alpha=0.5)\n",
    "plt.xlabel('Actual values')\n",
    "plt.ylabel('Predicted values')\n",
    "plt.title('SVR MSE = {:.2f}'.format(meanSqErr))\n",
    "plt.show()\n",
    "\n",
    "\n",
    "save_model(model, 'SVM_model.pkl')\n"
   ]
  },
  {
   "attachments": {},
   "cell_type": "markdown",
   "metadata": {},
   "source": [
    "## Test script"
   ]
  },
  {
   "cell_type": "code",
   "execution_count": 30,
   "metadata": {},
   "outputs": [
    {
     "name": "stderr",
     "output_type": "stream",
     "text": [
      "c:\\Users\\zozom\\anaconda3\\envs\\ml\\lib\\site-packages\\sklearn\\preprocessing\\_label.py:861: UserWarning: unknown class(es) ['am', 'bs', 'ca', 'ce', 'co', 'km', 'mi', 'sa', 'si'] will be ignored\n",
      "  .format(sorted(unknown, key=str)))\n",
      "c:\\Users\\zozom\\anaconda3\\envs\\ml\\lib\\site-packages\\sklearn\\preprocessing\\_label.py:861: UserWarning: unknown class(es) ['Aruba', 'Libyan Arab Jamahiriya', 'Serbia'] will be ignored\n",
      "  .format(sorted(unknown, key=str)))\n"
     ]
    },
    {
     "name": "stdout",
     "output_type": "stream",
     "text": [
      "R2:  0.38599048912136336\n",
      "Polynomial Reggression MSE Testing error: 0.5877663446822016\n",
      "SVR MSE Testing error:  0.6427362601284662\n",
      "R2:  0.3285662231667512\n"
     ]
    }
   ],
   "source": [
    "    \n",
    "# Test script\n",
    "def test_script(data, movies):\n",
    "\n",
    "    data = pd.read_csv(data)\n",
    "    X = data.iloc[:, :19] \n",
    "    Y = data['vote_average']\n",
    "    movies = pd.read_csv(movies)\n",
    "\n",
    "    X = join_columns(X, movies)\n",
    "\n",
    "    X = nonModels_preprocessing_script(X)\n",
    "    X = apply_encodings(X)\n",
    "\n",
    "    rfe = load_feature_selection()\n",
    "    X = rfe.transform(X)\n",
    "\n",
    "    c = load_model('PolynomialFeatures_model.pkl')\n",
    "    lr = load_model('LinearRegression_model.pkl')\n",
    "    x_test = c.transform(X)\n",
    "    y_pred_test = lr.predict(x_test)\n",
    "    r2 = metrics.r2_score(Y, y_pred_test)\n",
    "    print('R2: ', r2)\n",
    "    print(\"Polynomial Reggression MSE Testing error: \"+str(mean_squared_error(Y,y_pred_test)))\n",
    "\n",
    "    model = load_model('SVM_model.pkl')\n",
    "    Y_pred = model.predict(X)\n",
    "    meanSqErr = mean_squared_error(Y, Y_pred)\n",
    "    r2 = metrics.r2_score(Y, Y_pred)\n",
    "    print('SVR MSE Testing error: ', meanSqErr)\n",
    "    print('R2: ', r2)\n",
    "\n",
    "\n",
    "\n",
    "    \n",
    "        \n",
    "\n",
    "# Test the model using a new CSV file\n",
    "test_script('test.csv', 'movies-credit-students-train.csv')\n",
    "\n"
   ]
  }
 ],
 "metadata": {
  "kernelspec": {
   "display_name": "ml",
   "language": "python",
   "name": "python3"
  },
  "language_info": {
   "codemirror_mode": {
    "name": "ipython",
    "version": 3
   },
   "file_extension": ".py",
   "mimetype": "text/x-python",
   "name": "python",
   "nbconvert_exporter": "python",
   "pygments_lexer": "ipython3",
   "version": "3.6.13"
  },
  "orig_nbformat": 4
 },
 "nbformat": 4,
 "nbformat_minor": 2
}
